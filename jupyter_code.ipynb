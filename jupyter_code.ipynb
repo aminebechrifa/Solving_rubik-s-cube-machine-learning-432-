{
 "cells": [
  {
   "cell_type": "markdown",
   "metadata": {},
   "source": [
    "#               Final project G43 - matching the best model and data representation to solve a rubicks cube "
   ]
  },
  {
   "cell_type": "markdown",
   "metadata": {},
   "source": [
    "## the funnctions that we used to treat and generate the raw data "
   ]
  },
  {
   "cell_type": "code",
   "execution_count": 1048,
   "metadata": {},
   "outputs": [
    {
     "name": "stdout",
     "output_type": "stream",
     "text": [
      "D\n"
     ]
    }
   ],
   "source": [
    "\n",
    "from random import choice\n",
    "import matplotlib\n",
    "import matplotlib.pyplot as plt\n",
    "import sklearn\n",
    "import sklearn.tree        # For DecisionTreeClassifier class\n",
    "import sklearn.ensemble    # For AdaBoostClassifier class\n",
    "import sklearn.datasets    # For make_gaussian_quantiles\n",
    "import sklearn.metrics \n",
    "import numpy as np\n",
    "import pycuber as pc\n",
    "import keras.backend as K\n",
    "import numpy as np\n",
    "import pickle\n",
    "import keras \n",
    "from keras.layers import Dense , Dropout,Activation\n",
    "import torch\n",
    "from tqdm import tqdm\n",
    "\n",
    "\n",
    "rotations = {'F': 0, 'B': 1, 'U': 2, 'D': 3, 'L': 4, 'R': 5, \"F'\": 6, \"B'\": 7, \"U'\": 8, \"D'\": 9, \"L'\": 10, \"R'\": 11,\n",
    "              'F2': 12, 'B2': 13, 'U2': 14, 'D2': 15, 'L2': 16, 'R2': 17, \"F2'\": 18, \"B2'\": 19, \"U2'\": 20, \"D2'\": 21,\n",
    "              \"L2'\": 22, \"R2'\": 23}\n",
    "\n",
    "rotations_small = {'F': 0, 'B': 1, 'U': 2, 'D': 3, 'L': 4, 'R': 5, \"F'\": 6, \"B'\": 7, \"U'\": 8, \"D'\": 9, \"L'\": 10, \"R'\": 11}\n",
    "\n",
    "inv_rotations = {v: k for k, v in rotations.items()}\n",
    "\n",
    "\n",
    "color_map_hot = {'green': [1, 0, 0, 0, 0, 0], 'blue': [0, 1, 0, 0, 0, 0], 'yellow': [0, 0, 1, 0, 0, 0],\n",
    "                  'red': [0, 0, 0, 1, 0, 0], 'orange': [0, 0, 0, 0, 1, 0], 'white': [0, 0, 0, 0, 0, 1]}\n",
    "color_map_int = {'green':0, 'blue': 1, 'yellow': 2,\n",
    "                  'red': 3, 'orange': 4, 'white': 5}\n",
    "\n",
    "\n",
    "def flatten(cube):\n",
    "    faces = [cube.F, cube.B, cube.U, cube.D, cube.L, cube.R]\n",
    "    arr = []\n",
    "    for x in faces:\n",
    "        for i in range(3):\n",
    "            for j in range(3):\n",
    "                arr.append(x[i][j].colour)\n",
    "    return arr\n",
    "#print(flatten(pc.Cube()))\n",
    "\n",
    "\n",
    "def flatten_hot(cube):\n",
    "    faces = [cube.F, cube.B, cube.U, cube.D, cube.L, cube.R]\n",
    "    arr = []\n",
    "    for x in faces:\n",
    "        for i in range(3):\n",
    "            for j in range(3):\n",
    "                arr.extend(color_map_hot[x[i][j].colour])\n",
    "    return arr\n",
    "#print(flatten_hot(pc.Cube()))\n",
    "\n",
    "\n",
    "def flatten_int(cube):\n",
    "    faces = [cube.F, cube.B, cube.U, cube.D, cube.L, cube.R]\n",
    "    arr = []\n",
    "    for x in faces:\n",
    "        for i in range(3):\n",
    "            for j in range(3):\n",
    "                arr.append(color_map_int[x[i][j].colour])\n",
    "    return arr\n",
    "#print(flatten_int(pc.Cube()))\n",
    "\n",
    "def face_val(data):\n",
    "    if len(data) <= 1:\n",
    "        return 0\n",
    "\n",
    "    counts = Counter()\n",
    "\n",
    "    for d in data:\n",
    "        counts[d] += 1\n",
    "\n",
    "    probs = [float(c) / len(data) for c in counts.values()]\n",
    "\n",
    "    return max(probs)\n",
    "def mean_faces(cube):\n",
    "    flat = flatten(cube)\n",
    "    perc_side = [face_val(flat[i:(i + 9)]) for i in range(0, 9 * 6, 9)]\n",
    "  \n",
    "    return np.mean(perc_side)\n",
    "\n",
    "def gen_cube_hot(n_steps=6):\n",
    "    cube = pc.Cube()\n",
    "    transformation = [choice(list(rotations.keys())) for action in range(n_steps)]\n",
    "    actions = pc.Formula(transformation)\n",
    "\n",
    "    cube(actions)\n",
    "\n",
    "    actions.reverse()\n",
    "\n",
    "    X = []\n",
    "    y = []\n",
    "    cubes = []\n",
    "\n",
    "    for s in actions:\n",
    "        X.append(flatten_hot(cube))\n",
    "        y.append(rotations[s.name])\n",
    "        cubes.append(cube.copy())\n",
    "        cube(s.name)\n",
    "\n",
    "    return X,y,cubes\n",
    "\n",
    "def gen_cube_int(n_steps=6):\n",
    "    cube = pc.Cube()\n",
    "\n",
    "    transformation = [choice(list(rotations.keys())) for action in range(n_steps)]\n",
    "\n",
    "    actions = pc.Formula(transformation)\n",
    "\n",
    "    cube(actions)\n",
    "\n",
    "    actions.reverse()\n",
    "\n",
    "    X = []\n",
    "    y = []\n",
    "    cubes = []\n",
    "\n",
    "    for s in actions:\n",
    "        X.append(flatten_int(cube))\n",
    "        y.append(rotations[s.name])\n",
    "        cubes.append(cube.copy())\n",
    "        cube(s.name)\n",
    "\n",
    "    return X,y,cubes\n",
    "\n",
    "\n",
    "def gen_seq(n_steps=6):\n",
    "    cube = pc.Cube()\n",
    "    transformation = [choice(list(rotations.keys())) for action in range(n_steps)]\n",
    "    actions = pc.Formula(transformation)\n",
    "    cube(actions)\n",
    "    actions.reverse()\n",
    "    cubes = []\n",
    "    moves_to_solve = []\n",
    "    for i, s in enumerate(actions):\n",
    "        cubes.append(cube.copy())\n",
    "        cube(s.name)\n",
    "        moves_to_solve.append(n_steps-i)\n",
    "\n",
    "    return cubes, moves_to_solve\n",
    "\n",
    "\n",
    "def next_states(cube, flatten_=flatten_hot):\n",
    "  \n",
    "    flats = []\n",
    "    moves = []\n",
    "\n",
    "    for a in rotations:\n",
    "        cube_copy = cube.copy()\n",
    "        cube_copy = cube_copy(a)\n",
    "        flats.append(flatten_(cube_copy))\n",
    "        moves.append(a)\n",
    "       \n",
    "    return flats, moves\n",
    "print(next_states(pc.Cube())[1][3])\n"
   ]
  },
  {
   "cell_type": "markdown",
   "metadata": {},
   "source": [
    "## More advanced function to generate the data and plot the results "
   ]
  },
  {
   "cell_type": "code",
   "execution_count": 1132,
   "metadata": {},
   "outputs": [],
   "source": [
    "def generate_flat_samples(n,flatten_=flatten_hot) : \n",
    "    CBS = []\n",
    "    MSPS= []\n",
    "    print('generating ' , n , ' samples')\n",
    "    for j in tqdm(range(n)):\n",
    "        CB, MSP = gen_seq(9)                \n",
    "        CBS.extend(CB)\n",
    "   \n",
    "        MSPS.extend(MSP)\n",
    "        CBS.append(pc.Cube())\n",
    "        MSPS.extend([0])\n",
    "    FCBS=[] \n",
    "    for c in CBS : \n",
    "        FCBS.append(flatten_(c))\n",
    "\n",
    "    return FCBS,MSPS\n",
    "\n",
    "\n",
    "\n",
    "\n",
    "def score_estimators(X, y, estimators):\n",
    "    \"\"\"Scores each estimator on (X, y), returning a list of scores.\"\"\"\n",
    "    # Your implementation here. Aim for 1-4 lines.\n",
    "    arr=[]\n",
    "    for each in estimators : \n",
    "        arr.append(each.score(X,y))\n",
    "    return arr ;\n",
    "\n",
    "def train_estimators(X, y, estimator_type, param_name, param_vals, **kwargs):\n",
    "    arr=[]\n",
    "    for param_val in param_vals :\n",
    "        print('Training',estimator_type().__class__.__name__,'(',param_name,'=',param_val, kwargs    )\n",
    "        obj = {param_name:param_val}\n",
    "        estim=estimator_type(  **obj ,**kwargs).fit(X,y)\n",
    "        arr.append(estim)\n",
    "    return arr\n",
    "def plot_estimator_scores(X,y,X2,y2,estimators, param_name, param_vals):\n",
    "    paramss=param_vals\n",
    "    param_vals=[1,2,3,4,5,6]\n",
    "    maxtrn='train = ' , round(np.amax(score_estimators(X, y, estimators)),6)\n",
    "    maxtst='test = ' ,round(np.amax(score_estimators(X2, y2, estimators)),6)\n",
    "    plt.text(3.65, 0.32, maxtrn,c='g', fontsize=12)\n",
    "    plt.text(3.65, 0.18,maxtst, fontsize=12)\n",
    "    trn=plt.plot(param_vals, score_estimators(X, y, estimators) ,c='g',label=\"trn\")\n",
    "    tst= plt.plot(param_vals, score_estimators(X2, y2, estimators) ,c='black',linestyle =':' ,label=\"tst\")\n",
    "    plt.title(estimators[0].__class__.__name__ +'  score vs '+param_name)\n",
    "    plt.xlabel(param_name)\n",
    "    plt.ylabel(\"score\")\n",
    "    plt.legend( [\"train \", \"Validation\",\"test\"])\n",
    "    plt.xticks([1,2,3,4,5,6],paramss)\n",
    "    plt.yticks([0.0,0.2,0.4,0.6,0.8,1.0],[0.0,0.2,0.4,0.6,0.8,1.0])\n"
   ]
  },
  {
   "cell_type": "markdown",
   "metadata": {},
   "source": [
    "# Generating the data"
   ]
  },
  {
   "cell_type": "markdown",
   "metadata": {},
   "source": [
    "The run version is done with and input of 10 000 to the function that generate the data \n",
    "to see the functions running in a short time change the 10 000  to 10 and the 2000 to 2"
   ]
  },
  {
   "cell_type": "code",
   "execution_count": 1133,
   "metadata": {},
   "outputs": [
    {
     "name": "stderr",
     "output_type": "stream",
     "text": [
      "  0%|                                                                                | 5/10000 [00:00<03:43, 44.76it/s]"
     ]
    },
    {
     "name": "stdout",
     "output_type": "stream",
     "text": [
      "generating  10000  samples\n"
     ]
    },
    {
     "name": "stderr",
     "output_type": "stream",
     "text": [
      "100%|████████████████████████████████████████████████████████████████████████████| 10000/10000 [03:58<00:00, 41.90it/s]\n",
      "  0%|                                                                                | 5/10000 [00:00<03:51, 43.22it/s]"
     ]
    },
    {
     "name": "stdout",
     "output_type": "stream",
     "text": [
      "generating  10000  samples\n"
     ]
    },
    {
     "name": "stderr",
     "output_type": "stream",
     "text": [
      "100%|████████████████████████████████████████████████████████████████████████████| 10000/10000 [04:15<00:00, 39.19it/s]\n",
      "  0%|▏                                                                                | 5/2000 [00:00<00:40, 49.15it/s]"
     ]
    },
    {
     "name": "stdout",
     "output_type": "stream",
     "text": [
      "generating  2000  samples\n"
     ]
    },
    {
     "name": "stderr",
     "output_type": "stream",
     "text": [
      "100%|██████████████████████████████████████████████████████████████████████████████| 2000/2000 [00:42<00:00, 47.00it/s]\n",
      "  0%|▏                                                                                | 5/2000 [00:00<00:40, 48.67it/s]"
     ]
    },
    {
     "name": "stdout",
     "output_type": "stream",
     "text": [
      "generating  2000  samples\n"
     ]
    },
    {
     "name": "stderr",
     "output_type": "stream",
     "text": [
      "100%|██████████████████████████████████████████████████████████████████████████████| 2000/2000 [01:02<00:00, 31.80it/s]\n"
     ]
    }
   ],
   "source": [
    "X_hot,y_hot=generate_flat_samples(10000)\n",
    "\n",
    "X_int,y_int=generate_flat_samples(10000,flatten_=flatten_int)\n",
    "\n",
    "tst_X_hot,tst_y_hot=generate_flat_samples(2000)\n",
    "\n",
    "tst_X_int,tst_y_int=generate_flat_samples(2000,flatten_=flatten_int)\n"
   ]
  },
  {
   "cell_type": "markdown",
   "metadata": {},
   "source": [
    "Seeing the data shape "
   ]
  },
  {
   "cell_type": "code",
   "execution_count": 1190,
   "metadata": {},
   "outputs": [
    {
     "name": "stdout",
     "output_type": "stream",
     "text": [
      "[0, 1, 0, 0, 0, 0, 0, 0, 0, 0, 1, 0, 0, 0, 1, 0, 0, 0, 0, 1, 0, 0, 0, 0, 1, 0, 0, 0, 0, 0, 0, 0, 0, 0, 0, 1, 1, 0, 0, 0, 0, 0, 0, 0, 0, 1, 0, 0, 0, 0, 0, 0, 0, 1, 0, 0, 0, 0, 1, 0, 0, 0, 0, 1, 0, 0, 0, 0, 0, 0, 1, 0, 1, 0, 0, 0, 0, 0, 0, 1, 0, 0, 0, 0, 1, 0, 0, 0, 0, 0, 0, 0, 0, 1, 0, 0, 0, 0, 0, 0, 1, 0, 0, 0, 0, 1, 0, 0, 0, 0, 1, 0, 0, 0, 1, 0, 0, 0, 0, 0, 0, 0, 0, 0, 0, 1, 0, 0, 1, 0, 0, 0, 0, 0, 1, 0, 0, 0, 0, 0, 0, 0, 0, 1, 0, 0, 0, 1, 0, 0, 0, 0, 1, 0, 0, 0, 0, 0, 0, 0, 1, 0, 0, 0, 0, 1, 0, 0, 0, 1, 0, 0, 0, 0, 0, 0, 0, 0, 1, 0, 0, 0, 0, 1, 0, 0, 0, 0, 0, 0, 0, 1, 0, 0, 0, 0, 1, 0, 0, 1, 0, 0, 0, 0, 0, 0, 0, 0, 0, 1, 1, 0, 0, 0, 0, 0, 0, 1, 0, 0, 0, 0, 0, 1, 0, 0, 0, 0, 0, 0, 1, 0, 0, 0, 0, 0, 0, 0, 0, 1, 0, 0, 0, 1, 0, 0, 0, 0, 0, 0, 1, 0, 0, 0, 0, 0, 0, 1, 0, 0, 1, 0, 0, 0, 0, 0, 1, 0, 0, 0, 1, 0, 0, 0, 0, 0, 0, 1, 0, 0, 0, 0, 0, 1, 0, 0, 0, 0, 0, 0, 0, 1, 0, 0, 0, 0, 0, 0, 1, 0, 0, 0, 1, 0, 0, 0, 1, 0, 0, 0, 0, 0, 1, 0, 0, 0, 0, 0, 0, 0, 0, 0, 0, 1]\n",
      "9\n",
      "[3 3 4 1 0 1 2 4 2 2 0 2 1 1 0 3 3 4 3 4 3 3 2 5 5 2 5 4 5 4 2 5 5 5 5 5 1\n",
      " 0 0 2 3 2 1 4 0 0 0 0 3 4 4 1 1 1]\n",
      "9\n",
      "[1, 0, 0, 1, 0, 0, 0, 1, 1, 0, 0, 1, 1, 1, 0, 1, 1, 0, 5, 3, 3, 5, 2, 2, 5, 2, 2, 3, 3, 3, 5, 5, 2, 5, 4, 4, 4, 4, 3, 4, 3, 5, 4, 3, 2, 4, 4, 5, 5, 4, 2, 2, 3, 2]\n",
      "9\n"
     ]
    }
   ],
   "source": [
    "print(X_hot[0])\n",
    "print(y_hot[0])\n",
    "\n",
    "\n",
    "print(np.array(X_int[0]))\n",
    "print(y_int[0])\n",
    "\n",
    "print(X_int[10])\n",
    "print(y_int[10])"
   ]
  },
  {
   "cell_type": "markdown",
   "metadata": {},
   "source": [
    "## Estimators "
   ]
  },
  {
   "cell_type": "markdown",
   "metadata": {},
   "source": [
    "### If you dowloaded the modesl just run this cell to load thme "
   ]
  },
  {
   "cell_type": "code",
   "execution_count": null,
   "metadata": {},
   "outputs": [],
   "source": [
    "tree_estimators_hot = pickle.load(open(\"tree_estimators_hot.sav\", 'rb'))\n",
    "tree_estimators_int = pickle.load(open(\"tree_estimators_int.sav\", 'rb'))\n",
    "\n",
    "forest_estimators_hot = pickle.load(open(\"forest_estimators_hot.sav\", 'rb'))\n",
    "forest_estimators_int = pickle.load(open(\"forest_estimators_int.sav\", 'rb'))\n",
    "\n",
    "logistic_estimators_hot = pickle.load(open(\"logistic_estimators_hot.sav\", 'rb'))\n",
    "logistic_estimators_int = pickle.load(open(\"logistic_estimators_int.sav\", 'rb'))\n",
    "\n",
    "SVC_estimator_hot = pickle.load(open(\"SVC_estimator_hot.sav\", 'rb'))\n",
    "SVC_estimator_int = pickle.load(open(\"SVC_estimator_int.sav\", 'rb'))\n",
    "\n",
    "adaclassifier_estimators_hot = pickle.load(open(\"adaclassifier_estimators_hot.sav\", 'rb'))\n",
    "adaclassifier_estimators_int = pickle.load(open(\"adaclassifier_estimators_int.sav\", 'rb'))\n",
    "\n",
    "GradientBoosting_estimators_hot = pickle.load(open(\"GradientBoosting_estimators_hot.sav\", 'rb'))\n",
    "GradientBoosting_estimators_int = pickle.load(open(\"GradientBoosting_estimators_int.sav\", 'rb'))"
   ]
  },
  {
   "cell_type": "markdown",
   "metadata": {},
   "source": [
    "### TREE ESTIMATORS"
   ]
  },
  {
   "cell_type": "code",
   "execution_count": 1135,
   "metadata": {},
   "outputs": [
    {
     "name": "stdout",
     "output_type": "stream",
     "text": [
      "Training DecisionTreeClassifier ( max_depth = 1 {'splitter': 'random', 'random_state': 0}\n",
      "Training DecisionTreeClassifier ( max_depth = 5 {'splitter': 'random', 'random_state': 0}\n",
      "Training DecisionTreeClassifier ( max_depth = 10 {'splitter': 'random', 'random_state': 0}\n",
      "Training DecisionTreeClassifier ( max_depth = 30 {'splitter': 'random', 'random_state': 0}\n",
      "Training DecisionTreeClassifier ( max_depth = 50 {'splitter': 'random', 'random_state': 0}\n",
      "Training DecisionTreeClassifier ( max_depth = 100 {'splitter': 'random', 'random_state': 0}\n",
      "Training DecisionTreeClassifier ( max_depth = 1 {'splitter': 'random', 'random_state': 0}\n",
      "Training DecisionTreeClassifier ( max_depth = 5 {'splitter': 'random', 'random_state': 0}\n",
      "Training DecisionTreeClassifier ( max_depth = 10 {'splitter': 'random', 'random_state': 0}\n",
      "Training DecisionTreeClassifier ( max_depth = 30 {'splitter': 'random', 'random_state': 0}\n",
      "Training DecisionTreeClassifier ( max_depth = 50 {'splitter': 'random', 'random_state': 0}\n",
      "Training DecisionTreeClassifier ( max_depth = 100 {'splitter': 'random', 'random_state': 0}\n",
      "[0]\n"
     ]
    }
   ],
   "source": [
    "tree_estimators_hot = train_estimators(X_hot, y_hot, sklearn.tree.DecisionTreeClassifier,\n",
    "                                   'max_depth', [1,5, 10,30,50,100], splitter='random', random_state=0)\n",
    "tree_estimators_int = train_estimators(X_int, y_int, sklearn.tree.DecisionTreeClassifier,\n",
    "                                   'max_depth', [1,5, 10,30,50,100], splitter='random', random_state=0)\n",
    "print(tree_estimators_int[0].predict(np.array(flatten_int( pc.Cube() )).reshape(1,-1)))\n"
   ]
  },
  {
   "cell_type": "markdown",
   "metadata": {},
   "source": [
    "Saving the model"
   ]
  },
  {
   "cell_type": "code",
   "execution_count": 1139,
   "metadata": {},
   "outputs": [],
   "source": [
    "filename = 'tree_estimators_hot.sav'\n",
    "pickle.dump(tree_estimators_hot, open(filename, 'wb'))\n",
    "filename = 'tree_estimators_int.sav'\n",
    "pickle.dump(tree_estimators_int, open(filename, 'wb'))"
   ]
  },
  {
   "cell_type": "markdown",
   "metadata": {},
   "source": [
    "Plotting the results"
   ]
  },
  {
   "cell_type": "code",
   "execution_count": 1137,
   "metadata": {
    "scrolled": true
   },
   "outputs": [
    {
     "data": {
      "image/png": "[encoded data removed]",
      "text/plain": [
       "<Figure size 432x288 with 1 Axes>"
      ]
     },
     "metadata": {
      "needs_background": "light"
     },
     "output_type": "display_data"
    },
    {
     "data": {
      "image/png": "[encoded data removed]",
      "text/plain": [
       "<Figure size 432x288 with 1 Axes>"
      ]
     },
     "metadata": {
      "needs_background": "light"
     },
     "output_type": "display_data"
    }
   ],
   "source": [
    "\n",
    "\n",
    "plot_estimator_scores(X_hot,y_hot,tst_X_hot,tst_y_hot,tree_estimators_hot, 'max_depth_hot_representation', [1,5, 10,30,50,100])\n",
    "plt.figure()\n",
    "plot_estimator_scores(X_int,y_int,tst_X_int, tst_y_int,tree_estimators_int, 'max_depth_int_representation', [1,5, 10,30,50,100])"
   ]
  },
  {
   "cell_type": "markdown",
   "metadata": {},
   "source": [
    "# Forest ESTIMATORS"
   ]
  },
  {
   "cell_type": "code",
   "execution_count": 1138,
   "metadata": {},
   "outputs": [
    {
     "name": "stdout",
     "output_type": "stream",
     "text": [
      "Training RandomForestClassifier ( max_depth = 1 {}\n",
      "Training RandomForestClassifier ( max_depth = 5 {}\n",
      "Training RandomForestClassifier ( max_depth = 10 {}\n",
      "Training RandomForestClassifier ( max_depth = 20 {}\n",
      "Training RandomForestClassifier ( max_depth = 50 {}\n",
      "Training RandomForestClassifier ( max_depth = 100 {}\n",
      "Training RandomForestClassifier ( max_depth = 1 {}\n",
      "Training RandomForestClassifier ( max_depth = 5 {}\n",
      "Training RandomForestClassifier ( max_depth = 10 {}\n",
      "Training RandomForestClassifier ( max_depth = 20 {}\n",
      "Training RandomForestClassifier ( max_depth = 50 {}\n",
      "Training RandomForestClassifier ( max_depth = 100 {}\n"
     ]
    }
   ],
   "source": [
    "\n",
    "\n",
    "forest_estimators_hot = train_estimators(X_hot, y_hot, sklearn.ensemble.RandomForestClassifier,\n",
    "                   \n",
    "                                   'max_depth', [1, 5, 10,20,50,100])\n",
    "forest_estimators_int = train_estimators(X_int, y_int, sklearn.ensemble.RandomForestClassifier,\n",
    "                   \n",
    "                                   'max_depth', [1, 5, 10,20,50,100])\n",
    "\n"
   ]
  },
  {
   "cell_type": "markdown",
   "metadata": {},
   "source": [
    "Saving the model"
   ]
  },
  {
   "cell_type": "code",
   "execution_count": 1140,
   "metadata": {},
   "outputs": [],
   "source": [
    "filename = 'forest_estimators_hot.sav'\n",
    "pickle.dump(forest_estimators_hot, open(filename, 'wb'))\n",
    "\n",
    "filename = 'forest_estimators_int.sav'\n",
    "pickle.dump(forest_estimators_int, open(filename, 'wb'))"
   ]
  },
  {
   "cell_type": "code",
   "execution_count": 1141,
   "metadata": {},
   "outputs": [
    {
     "data": {
      "image/png": "[encoded data removed]",
      "text/plain": [
       "<Figure size 432x288 with 1 Axes>"
      ]
     },
     "metadata": {
      "needs_background": "light"
     },
     "output_type": "display_data"
    },
    {
     "data": {
      "image/png": "[encoded data removed]",
      "text/plain": [
       "<Figure size 432x288 with 1 Axes>"
      ]
     },
     "metadata": {
      "needs_background": "light"
     },
     "output_type": "display_data"
    }
   ],
   "source": [
    "\n",
    "plot_estimator_scores(X_hot,y_hot,tst_X_hot,tst_y_hot,forest_estimators_hot, 'max_depth_hot_representation', [1, 5, 10,20,50,100])\n",
    "plt.figure()\n",
    "plot_estimator_scores(X_int,y_int,tst_X_int, tst_y_int,forest_estimators_int, 'max_depth_int_representation', [1, 5, 10,20,50,100])"
   ]
  },
  {
   "cell_type": "markdown",
   "metadata": {},
   "source": [
    "\n",
    "#   LOGISITIC REGRESSION"
   ]
  },
  {
   "cell_type": "code",
   "execution_count": 1142,
   "metadata": {},
   "outputs": [
    {
     "name": "stdout",
     "output_type": "stream",
     "text": [
      "Training LogisticRegression ( C = 1e-05 {'max_iter': 10000, 'random_state': 0}\n",
      "Training LogisticRegression ( C = 0.0001 {'max_iter': 10000, 'random_state': 0}\n",
      "Training LogisticRegression ( C = 0.001 {'max_iter': 10000, 'random_state': 0}\n",
      "Training LogisticRegression ( C = 0.01 {'max_iter': 10000, 'random_state': 0}\n",
      "Training LogisticRegression ( C = 0.1 {'max_iter': 10000, 'random_state': 0}\n",
      "Training LogisticRegression ( C = 1 {'max_iter': 10000, 'random_state': 0}\n",
      "Training LogisticRegression ( C = 1e-05 {'max_iter': 10000, 'random_state': 0}\n",
      "Training LogisticRegression ( C = 0.0001 {'max_iter': 10000, 'random_state': 0}\n",
      "Training LogisticRegression ( C = 0.001 {'max_iter': 10000, 'random_state': 0}\n",
      "Training LogisticRegression ( C = 0.01 {'max_iter': 10000, 'random_state': 0}\n",
      "Training LogisticRegression ( C = 0.1 {'max_iter': 10000, 'random_state': 0}\n",
      "Training LogisticRegression ( C = 1 {'max_iter': 10000, 'random_state': 0}\n"
     ]
    }
   ],
   "source": [
    "logistic_estimators_hot = train_estimators(X_hot, y_hot, sklearn.linear_model.LogisticRegression,\n",
    "                                   'C', [1e-05,0.0001, 0.001,0.01,0.1,1],max_iter=10000, random_state=0)\n",
    "logistic_estimators_int = train_estimators(X_int, y_int, sklearn.linear_model.LogisticRegression,\n",
    "                                   'C', [1e-05,0.0001, 0.001,0.01,0.1,1],max_iter=10000, random_state=0)\n",
    "\n"
   ]
  },
  {
   "cell_type": "markdown",
   "metadata": {},
   "source": [
    "Saving the model"
   ]
  },
  {
   "cell_type": "code",
   "execution_count": 1143,
   "metadata": {},
   "outputs": [],
   "source": [
    "filename = 'logistic_estimators_hot.sav'\n",
    "pickle.dump(logistic_estimators_hot, open(filename, 'wb'))\n",
    "    \n",
    "filename = 'logistic_estimators_int.sav'\n",
    "pickle.dump(logistic_estimators_int, open(filename, 'wb'))"
   ]
  },
  {
   "cell_type": "code",
   "execution_count": 1144,
   "metadata": {},
   "outputs": [
    {
     "data": {
      "image/png": "[encoded data removed]",
      "text/plain": [
       "<Figure size 432x288 with 1 Axes>"
      ]
     },
     "metadata": {
      "needs_background": "light"
     },
     "output_type": "display_data"
    },
    {
     "data": {
      "image/png": "[encoded data removed]",
      "text/plain": [
       "<Figure size 432x288 with 1 Axes>"
      ]
     },
     "metadata": {
      "needs_background": "light"
     },
     "output_type": "display_data"
    }
   ],
   "source": [
    "\n",
    "plot_estimator_scores(X_hot,y_hot,tst_X_hot,tst_y_hot,logistic_estimators_hot, 'C__hot_representation',[1e-05,0.0001, 0.001,0.01,0.1,1])\n",
    "plt.figure()\n",
    "plot_estimator_scores(X_int,y_int,tst_X_int, tst_y_int,logistic_estimators_int, 'C_int_representation', [1e-05,0.0001, 0.001,0.01,0.1,1])"
   ]
  },
  {
   "cell_type": "markdown",
   "metadata": {},
   "source": [
    "# SVC"
   ]
  },
  {
   "cell_type": "code",
   "execution_count": 530,
   "metadata": {},
   "outputs": [
    {
     "name": "stdout",
     "output_type": "stream",
     "text": [
      "Training SVC ( C = 0.01 {'gamma': 0.001, 'max_iter': 1000, 'random_state': 0}\n"
     ]
    },
    {
     "name": "stderr",
     "output_type": "stream",
     "text": [
      "C:\\ProgramData\\Miniconda3\\lib\\site-packages\\sklearn\\svm\\_base.py:246: ConvergenceWarning: Solver terminated early (max_iter=1000).  Consider pre-processing your data with StandardScaler or MinMaxScaler.\n",
      "  warnings.warn('Solver terminated early (max_iter=%i).'\n"
     ]
    },
    {
     "name": "stdout",
     "output_type": "stream",
     "text": [
      "Training SVC ( C = 0.1 {'gamma': 0.001, 'max_iter': 1000, 'random_state': 0}\n"
     ]
    },
    {
     "name": "stderr",
     "output_type": "stream",
     "text": [
      "C:\\ProgramData\\Miniconda3\\lib\\site-packages\\sklearn\\svm\\_base.py:246: ConvergenceWarning: Solver terminated early (max_iter=1000).  Consider pre-processing your data with StandardScaler or MinMaxScaler.\n",
      "  warnings.warn('Solver terminated early (max_iter=%i).'\n"
     ]
    },
    {
     "name": "stdout",
     "output_type": "stream",
     "text": [
      "Training SVC ( C = 1 {'gamma': 0.001, 'max_iter': 1000, 'random_state': 0}\n"
     ]
    },
    {
     "name": "stderr",
     "output_type": "stream",
     "text": [
      "C:\\ProgramData\\Miniconda3\\lib\\site-packages\\sklearn\\svm\\_base.py:246: ConvergenceWarning: Solver terminated early (max_iter=1000).  Consider pre-processing your data with StandardScaler or MinMaxScaler.\n",
      "  warnings.warn('Solver terminated early (max_iter=%i).'\n"
     ]
    },
    {
     "name": "stdout",
     "output_type": "stream",
     "text": [
      "Training SVC ( C = 10 {'gamma': 0.001, 'max_iter': 1000, 'random_state': 0}\n"
     ]
    },
    {
     "name": "stderr",
     "output_type": "stream",
     "text": [
      "C:\\ProgramData\\Miniconda3\\lib\\site-packages\\sklearn\\svm\\_base.py:246: ConvergenceWarning: Solver terminated early (max_iter=1000).  Consider pre-processing your data with StandardScaler or MinMaxScaler.\n",
      "  warnings.warn('Solver terminated early (max_iter=%i).'\n"
     ]
    },
    {
     "name": "stdout",
     "output_type": "stream",
     "text": [
      "Training SVC ( C = 100 {'gamma': 0.001, 'max_iter': 1000, 'random_state': 0}\n"
     ]
    },
    {
     "name": "stderr",
     "output_type": "stream",
     "text": [
      "C:\\ProgramData\\Miniconda3\\lib\\site-packages\\sklearn\\svm\\_base.py:246: ConvergenceWarning: Solver terminated early (max_iter=1000).  Consider pre-processing your data with StandardScaler or MinMaxScaler.\n",
      "  warnings.warn('Solver terminated early (max_iter=%i).'\n"
     ]
    },
    {
     "name": "stdout",
     "output_type": "stream",
     "text": [
      "Training SVC ( C = 1000 {'gamma': 0.001, 'max_iter': 1000, 'random_state': 0}\n"
     ]
    },
    {
     "name": "stderr",
     "output_type": "stream",
     "text": [
      "C:\\ProgramData\\Miniconda3\\lib\\site-packages\\sklearn\\svm\\_base.py:246: ConvergenceWarning: Solver terminated early (max_iter=1000).  Consider pre-processing your data with StandardScaler or MinMaxScaler.\n",
      "  warnings.warn('Solver terminated early (max_iter=%i).'\n"
     ]
    },
    {
     "name": "stdout",
     "output_type": "stream",
     "text": [
      "Training SVC ( C = 0.01 {'gamma': 0.001, 'max_iter': 1000, 'random_state': 0}\n"
     ]
    },
    {
     "name": "stderr",
     "output_type": "stream",
     "text": [
      "C:\\ProgramData\\Miniconda3\\lib\\site-packages\\sklearn\\svm\\_base.py:246: ConvergenceWarning: Solver terminated early (max_iter=1000).  Consider pre-processing your data with StandardScaler or MinMaxScaler.\n",
      "  warnings.warn('Solver terminated early (max_iter=%i).'\n"
     ]
    },
    {
     "name": "stdout",
     "output_type": "stream",
     "text": [
      "Training SVC ( C = 0.1 {'gamma': 0.001, 'max_iter': 1000, 'random_state': 0}\n"
     ]
    },
    {
     "name": "stderr",
     "output_type": "stream",
     "text": [
      "C:\\ProgramData\\Miniconda3\\lib\\site-packages\\sklearn\\svm\\_base.py:246: ConvergenceWarning: Solver terminated early (max_iter=1000).  Consider pre-processing your data with StandardScaler or MinMaxScaler.\n",
      "  warnings.warn('Solver terminated early (max_iter=%i).'\n"
     ]
    },
    {
     "name": "stdout",
     "output_type": "stream",
     "text": [
      "Training SVC ( C = 1 {'gamma': 0.001, 'max_iter': 1000, 'random_state': 0}\n"
     ]
    },
    {
     "name": "stderr",
     "output_type": "stream",
     "text": [
      "C:\\ProgramData\\Miniconda3\\lib\\site-packages\\sklearn\\svm\\_base.py:246: ConvergenceWarning: Solver terminated early (max_iter=1000).  Consider pre-processing your data with StandardScaler or MinMaxScaler.\n",
      "  warnings.warn('Solver terminated early (max_iter=%i).'\n"
     ]
    },
    {
     "name": "stdout",
     "output_type": "stream",
     "text": [
      "Training SVC ( C = 10 {'gamma': 0.001, 'max_iter': 1000, 'random_state': 0}\n"
     ]
    },
    {
     "name": "stderr",
     "output_type": "stream",
     "text": [
      "C:\\ProgramData\\Miniconda3\\lib\\site-packages\\sklearn\\svm\\_base.py:246: ConvergenceWarning: Solver terminated early (max_iter=1000).  Consider pre-processing your data with StandardScaler or MinMaxScaler.\n",
      "  warnings.warn('Solver terminated early (max_iter=%i).'\n"
     ]
    },
    {
     "name": "stdout",
     "output_type": "stream",
     "text": [
      "Training SVC ( C = 100 {'gamma': 0.001, 'max_iter': 1000, 'random_state': 0}\n"
     ]
    },
    {
     "name": "stderr",
     "output_type": "stream",
     "text": [
      "C:\\ProgramData\\Miniconda3\\lib\\site-packages\\sklearn\\svm\\_base.py:246: ConvergenceWarning: Solver terminated early (max_iter=1000).  Consider pre-processing your data with StandardScaler or MinMaxScaler.\n",
      "  warnings.warn('Solver terminated early (max_iter=%i).'\n"
     ]
    },
    {
     "name": "stdout",
     "output_type": "stream",
     "text": [
      "Training SVC ( C = 1000 {'gamma': 0.001, 'max_iter': 1000, 'random_state': 0}\n"
     ]
    },
    {
     "name": "stderr",
     "output_type": "stream",
     "text": [
      "C:\\ProgramData\\Miniconda3\\lib\\site-packages\\sklearn\\svm\\_base.py:246: ConvergenceWarning: Solver terminated early (max_iter=1000).  Consider pre-processing your data with StandardScaler or MinMaxScaler.\n",
      "  warnings.warn('Solver terminated early (max_iter=%i).'\n"
     ]
    },
    {
     "name": "stdout",
     "output_type": "stream",
     "text": [
      "Wall time: 20min 38s\n"
     ]
    }
   ],
   "source": [
    "\n",
    "# Your code here. Aim for 1-2 lines.\n",
    "SVC_estimator_hot = train_estimators(X_hot, y_hot, sklearn.svm.SVC,\n",
    "                                   'C', [0.01,0.1, 1, 10, 100 ,1000], gamma=0.001, max_iter=1000, random_state=0)\n",
    "SVC_estimator_int = train_estimators(X_int, y_int, sklearn.svm.SVC,\n",
    "                                   'C', [0.01,0.1, 1, 10, 100 ,1000], gamma=0.001, max_iter=1000, random_state=0)\n",
    "\n"
   ]
  },
  {
   "cell_type": "markdown",
   "metadata": {},
   "source": [
    "Saving the model"
   ]
  },
  {
   "cell_type": "code",
   "execution_count": 1102,
   "metadata": {},
   "outputs": [],
   "source": [
    "filename = 'SVC_estimator_hot.sav'\n",
    "pickle.dump(SVC_estimator_hot, open(filename, 'wb'))\n",
    "\n",
    "filename = 'SVC_estimator_int.sav'\n",
    "pickle.dump(SVC_estimator_hot, open(filename, 'wb'))"
   ]
  },
  {
   "cell_type": "code",
   "execution_count": 531,
   "metadata": {},
   "outputs": [
    {
     "name": "stdout",
     "output_type": "stream",
     "text": [
      "Wall time: 18min 17s\n"
     ]
    },
    {
     "data": {
      "image/png": "[encoded data removed]",
      "text/plain": [
       "<Figure size 432x288 with 1 Axes>"
      ]
     },
     "metadata": {
      "needs_background": "light"
     },
     "output_type": "display_data"
    },
    {
     "data": {
      "image/png": "[encoded data removed]",
      "text/plain": [
       "<Figure size 432x288 with 1 Axes>"
      ]
     },
     "metadata": {
      "needs_background": "light"
     },
     "output_type": "display_data"
    }
   ],
   "source": [
    "\n",
    "plot_estimator_scores(X_hot,y_hot,tst_X_hot,tst_y_hot,SVC_estimator_hot, 'C__hot_representation',[0.01,0.1, 1, 10, 100 ,1000])\n",
    "plt.figure() \n",
    "plot_estimator_scores(X_int,y_int,tst_X_int, tst_y_int,SVC_estimator_int, 'C_int_representation', [0.01,0.1, 1, 10, 100 ,1000])\n"
   ]
  },
  {
   "cell_type": "markdown",
   "metadata": {},
   "source": [
    "# adaboost"
   ]
  },
  {
   "cell_type": "code",
   "execution_count": 1145,
   "metadata": {},
   "outputs": [
    {
     "name": "stdout",
     "output_type": "stream",
     "text": [
      "Training AdaBoostClassifier ( learning_rate = 0.0001 {'n_estimators': 100}\n",
      "Training AdaBoostClassifier ( learning_rate = 0.001 {'n_estimators': 100}\n",
      "Training AdaBoostClassifier ( learning_rate = 0.01 {'n_estimators': 100}\n",
      "Training AdaBoostClassifier ( learning_rate = 0.1 {'n_estimators': 100}\n",
      "Training AdaBoostClassifier ( learning_rate = 1 {'n_estimators': 100}\n",
      "Training AdaBoostClassifier ( learning_rate = 10 {'n_estimators': 100}\n",
      "Training AdaBoostClassifier ( learning_rate = 0.0001 {'n_estimators': 100}\n",
      "Training AdaBoostClassifier ( learning_rate = 0.001 {'n_estimators': 100}\n",
      "Training AdaBoostClassifier ( learning_rate = 0.01 {'n_estimators': 100}\n",
      "Training AdaBoostClassifier ( learning_rate = 0.1 {'n_estimators': 100}\n",
      "Training AdaBoostClassifier ( learning_rate = 1 {'n_estimators': 100}\n",
      "Training AdaBoostClassifier ( learning_rate = 10 {'n_estimators': 100}\n"
     ]
    }
   ],
   "source": [
    "\n",
    "adaclassifier_estimators_hot= train_estimators(X_hot, y_hot, sklearn.ensemble.AdaBoostClassifier,\n",
    "                        'learning_rate', [0.0001,0.001, 0.01, 0.1, 1 ,10],n_estimators=100 )\n",
    "\n",
    "adaclassifier_estimators_int = train_estimators(X_int, y_int, sklearn.ensemble.AdaBoostClassifier,\n",
    "                        'learning_rate', [0.0001,0.001, 0.01, 0.1, 1 ,10],n_estimators=100 )\n",
    "\n"
   ]
  },
  {
   "cell_type": "markdown",
   "metadata": {},
   "source": [
    "Saving the model"
   ]
  },
  {
   "cell_type": "code",
   "execution_count": 1149,
   "metadata": {},
   "outputs": [],
   "source": [
    "filename = 'adaclassifier_estimators_hot.sav'\n",
    "pickle.dump(adaclassifier_estimators_hot, open(filename, 'wb'))\n",
    "\n",
    "filename = 'adaclassifier_estimators_int.sav'\n",
    "pickle.dump(adaclassifier_estimators_int, open(filename, 'wb'))"
   ]
  },
  {
   "cell_type": "code",
   "execution_count": 1150,
   "metadata": {
    "scrolled": true
   },
   "outputs": [
    {
     "data": {
      "image/png": "[encoded data removed]",
      "text/plain": [
       "<Figure size 432x288 with 1 Axes>"
      ]
     },
     "metadata": {
      "needs_background": "light"
     },
     "output_type": "display_data"
    },
    {
     "data": {
      "image/png": "[encoded data removed]",
      "text/plain": [
       "<Figure size 432x288 with 1 Axes>"
      ]
     },
     "metadata": {
      "needs_background": "light"
     },
     "output_type": "display_data"
    }
   ],
   "source": [
    "\n",
    "plot_estimator_scores(X_hot,y_hot,tst_X_hot,tst_y_hot,adaclassifier_estimators_hot, 'learning_rate_hot_representation'\n",
    "                      , [0.0001,0.001, 0.01, 0.1, 1 ,10])\n",
    "plt.figure() \n",
    "plot_estimator_scores(X_int,y_int,tst_X_int, tst_y_int,adaclassifier_estimators_int, 'learning_rate_representation',\n",
    "                      [0.0001,0.001, 0.01, 0.1, 1 ,10])\n"
   ]
  },
  {
   "cell_type": "markdown",
   "metadata": {},
   "source": [
    "# GRADIENT BOOSTING  CLASSIFIER"
   ]
  },
  {
   "cell_type": "code",
   "execution_count": 1148,
   "metadata": {
    "scrolled": true
   },
   "outputs": [
    {
     "name": "stdout",
     "output_type": "stream",
     "text": [
      "Training GradientBoostingClassifier ( learning_rate = 0.0001 {'n_estimators': 100}\n",
      "Training GradientBoostingClassifier ( learning_rate = 0.001 {'n_estimators': 100}\n",
      "Training GradientBoostingClassifier ( learning_rate = 0.01 {'n_estimators': 100}\n",
      "Training GradientBoostingClassifier ( learning_rate = 0.1 {'n_estimators': 100}\n",
      "Training GradientBoostingClassifier ( learning_rate = 1 {'n_estimators': 100}\n",
      "Training GradientBoostingClassifier ( learning_rate = 10 {'n_estimators': 100}\n",
      "Training GradientBoostingClassifier ( learning_rate = 0.0001 {'n_estimators': 100}\n",
      "Training GradientBoostingClassifier ( learning_rate = 0.001 {'n_estimators': 100}\n",
      "Training GradientBoostingClassifier ( learning_rate = 0.01 {'n_estimators': 100}\n",
      "Training GradientBoostingClassifier ( learning_rate = 0.1 {'n_estimators': 100}\n",
      "Training GradientBoostingClassifier ( learning_rate = 1 {'n_estimators': 100}\n",
      "Training GradientBoostingClassifier ( learning_rate = 10 {'n_estimators': 100}\n"
     ]
    }
   ],
   "source": [
    "\n",
    " \n",
    "GradientBoosting_estimators_hot= train_estimators(X_hot, y_hot, sklearn.ensemble.GradientBoostingClassifier,\n",
    "                        'learning_rate', [0.0001,0.001, 0.01, 0.1, 1 ,10],n_estimators=100 )\n",
    "\n",
    "GradientBoosting_estimators_int = train_estimators(X_int, y_int, sklearn.ensemble.GradientBoostingClassifier,\n",
    "                        'learning_rate', [0.0001,0.001, 0.01, 0.1, 1 ,10],n_estimators=100 )\n",
    "\n"
   ]
  },
  {
   "cell_type": "markdown",
   "metadata": {},
   "source": [
    "Saving the model"
   ]
  },
  {
   "cell_type": "code",
   "execution_count": 1151,
   "metadata": {},
   "outputs": [
    {
     "name": "stdout",
     "output_type": "stream",
     "text": [
      "done\n"
     ]
    }
   ],
   "source": [
    "filename = 'GradientBoosting_estimators_hot.sav'\n",
    "pickle.dump(GradientBoosting_estimators_hot, open(filename, 'wb'))\n",
    "\n",
    "filename = 'GradientBoosting_estimators_int.sav'\n",
    "pickle.dump(GradientBoosting_estimators_int, open(filename, 'wb'))\n",
    "print('done')"
   ]
  },
  {
   "cell_type": "code",
   "execution_count": 1152,
   "metadata": {},
   "outputs": [
    {
     "data": {
      "image/png": "[encoded data removed]",
      "text/plain": [
       "<Figure size 432x288 with 1 Axes>"
      ]
     },
     "metadata": {
      "needs_background": "light"
     },
     "output_type": "display_data"
    },
    {
     "data": {
      "image/png": "[encoded data removed]",
      "text/plain": [
       "<Figure size 432x288 with 1 Axes>"
      ]
     },
     "metadata": {
      "needs_background": "light"
     },
     "output_type": "display_data"
    }
   ],
   "source": [
    "\n",
    "plot_estimator_scores(X_hot,y_hot,tst_X_hot,tst_y_hot,GradientBoosting_estimators_hot, 'GradientBoostingClassifier learning_rate_hot_representation', [0.0001,0.001, 0.01, 0.1, 1 ,10])\n",
    "plt.figure() \n",
    "plot_estimator_scores(X_int,y_int,tst_X_int, tst_y_int,GradientBoosting_estimators_int, 'GradientBoostingClassifier learning_rate_representation', [0.0001,0.001, 0.01, 0.1, 1 ,10])\n"
   ]
  },
  {
   "cell_type": "markdown",
   "metadata": {},
   "source": [
    "# TESTING ON A RANDOM CUBE"
   ]
  },
  {
   "cell_type": "code",
   "execution_count": 1107,
   "metadata": {},
   "outputs": [
    {
     "name": "stdout",
     "output_type": "stream",
     "text": [
      "[      \u001b[43m  \u001b[49m\u001b[43m  \u001b[49m\u001b[42m  \u001b[49m\n",
      "      \u001b[43m  \u001b[49m\u001b[43m  \u001b[49m\u001b[42m  \u001b[49m\n",
      "      \u001b[47m  \u001b[49m\u001b[47m  \u001b[49m\u001b[45m  \u001b[49m\n",
      "\u001b[42m  \u001b[49m\u001b[42m  \u001b[49m\u001b[46m  \u001b[49m\u001b[41m  \u001b[49m\u001b[41m  \u001b[49m\u001b[43m  \u001b[49m\u001b[46m  \u001b[49m\u001b[45m  \u001b[49m\u001b[45m  \u001b[49m\u001b[47m  \u001b[49m\u001b[45m  \u001b[49m\u001b[45m  \u001b[49m\n",
      "\u001b[46m  \u001b[49m\u001b[45m  \u001b[49m\u001b[45m  \u001b[49m\u001b[47m  \u001b[49m\u001b[42m  \u001b[49m\u001b[46m  \u001b[49m\u001b[41m  \u001b[49m\u001b[41m  \u001b[49m\u001b[41m  \u001b[49m\u001b[42m  \u001b[49m\u001b[46m  \u001b[49m\u001b[43m  \u001b[49m\n",
      "\u001b[41m  \u001b[49m\u001b[41m  \u001b[49m\u001b[41m  \u001b[49m\u001b[42m  \u001b[49m\u001b[46m  \u001b[49m\u001b[47m  \u001b[49m\u001b[42m  \u001b[49m\u001b[45m  \u001b[49m\u001b[45m  \u001b[49m\u001b[47m  \u001b[49m\u001b[42m  \u001b[49m\u001b[46m  \u001b[49m\n",
      "      \u001b[43m  \u001b[49m\u001b[47m  \u001b[49m\u001b[41m  \u001b[49m\n",
      "      \u001b[43m  \u001b[49m\u001b[47m  \u001b[49m\u001b[46m  \u001b[49m\n",
      "      \u001b[43m  \u001b[49m\u001b[47m  \u001b[49m\u001b[46m  \u001b[49m\n",
      "]\n"
     ]
    }
   ],
   "source": [
    "cube,_=gen_seq(n_steps=5)\n",
    "print([cube[0]])\n",
    "cubes=pc.Cube()\n"
   ]
  },
  {
   "cell_type": "code",
   "execution_count": 1108,
   "metadata": {
    "scrolled": false
   },
   "outputs": [
    {
     "name": "stdout",
     "output_type": "stream",
     "text": [
      "estimated number of moves is  6\n",
      "[8, 9, 6, 9, 6, 8, 8, 9, 7, 9, 9, 7, 9, 9, 5, 4, 8, 9, 9, 9, 5, 4, 8, 9]\n",
      "D2\n",
      "[9, 7, 4, 9, 7, 5, 9, 9, 8, 9, 8, 5, 9, 9, 3, 6, 6, 9, 9, 9, 3, 6, 9]\n",
      "U2\n",
      "[9, 7, 8, 8, 2, 4, 7, 5, 4, 6, 3, 5, 6, 5, 4, 5, 3, 6, 6, 5, 5, 3, 6]\n",
      "L\n",
      "[4, 7, 1, 3, 3, 5, 3, 3, 2, 6, 3, 3, 3, 2, 3, 3, 5, 3, 3, 2, 3, 3, 5]\n",
      "U\n",
      "[2, 2, 2, 2, 2, 1, 2, 2, 2, 2, 1, 2, 2, 2, 2, 2, 0, 2, 2, 2, 2, 2, 0]\n",
      "['D2', 'U2', 'L', 'U', 'R2']\n"
     ]
    }
   ],
   "source": [
    "def get_solution(estimator,cubea,shape='hot'): \n",
    "    cube=cubea.copy()\n",
    "    print('estimated number of moves is ',estimator.predict(np.array(flatten_hot(cube)).reshape(1,-1))[0] )\n",
    "\n",
    "    if (mean_faces(cube)==1):\n",
    "        return [] ;\n",
    "    solution=[]\n",
    "    min_moves=100\n",
    "    val=[]\n",
    "    for _ in range(30) :\n",
    "\n",
    "        previsions,moves=next_states(cube, flatten_=flatten_hot)\n",
    "        if(_>0):\n",
    "            \n",
    "            print(moves[val.index(min(val))])\n",
    "            if (moves[val.index(min(val))][ len( moves[val.index(min(val))]) -1 ]!=\"'\" ) :\n",
    "                rep=moves.index(moves[val.index(min(val))]+str(\"'\"))\n",
    "                moves.pop(rep)\n",
    "                previsions.pop(rep)\n",
    "                \n",
    "            else  :\n",
    "                \n",
    "                rep=moves.index(moves[val.index(min(val))].replace(\"'\", ''))\n",
    "                moves.pop(rep)\n",
    "                previsions.pop(rep)\n",
    "\n",
    "        val=[]\n",
    "  \n",
    "        for i in range (0,len(previsions)) : \n",
    "            nbr=estimator.predict(np.array(previsions[i]).reshape(1,-1))\n",
    "            val.append(nbr[0])\n",
    "        \n",
    "        print(val)\n",
    "        solution.append(moves[val.index(min(val))])\n",
    "        cube=cube(moves[val.index(min(val))])\n",
    "        if (min(val)==0):\n",
    "            return solution ;   \n",
    "    return solution ;\n",
    "\n",
    "\n",
    "\n",
    "a=get_solution(forest_estimators_hot[4],cube[0])\n",
    "\n",
    "print(a)"
   ]
  },
  {
   "cell_type": "code",
   "execution_count": 1109,
   "metadata": {},
   "outputs": [
    {
     "name": "stdout",
     "output_type": "stream",
     "text": [
      " \n",
      "[      \u001b[43m  \u001b[49m\u001b[43m  \u001b[49m\u001b[42m  \u001b[49m\n",
      "      \u001b[43m  \u001b[49m\u001b[43m  \u001b[49m\u001b[42m  \u001b[49m\n",
      "      \u001b[47m  \u001b[49m\u001b[47m  \u001b[49m\u001b[45m  \u001b[49m\n",
      "\u001b[42m  \u001b[49m\u001b[42m  \u001b[49m\u001b[46m  \u001b[49m\u001b[41m  \u001b[49m\u001b[41m  \u001b[49m\u001b[43m  \u001b[49m\u001b[46m  \u001b[49m\u001b[45m  \u001b[49m\u001b[45m  \u001b[49m\u001b[47m  \u001b[49m\u001b[45m  \u001b[49m\u001b[45m  \u001b[49m\n",
      "\u001b[46m  \u001b[49m\u001b[45m  \u001b[49m\u001b[45m  \u001b[49m\u001b[47m  \u001b[49m\u001b[42m  \u001b[49m\u001b[46m  \u001b[49m\u001b[41m  \u001b[49m\u001b[41m  \u001b[49m\u001b[41m  \u001b[49m\u001b[42m  \u001b[49m\u001b[46m  \u001b[49m\u001b[43m  \u001b[49m\n",
      "\u001b[42m  \u001b[49m\u001b[45m  \u001b[49m\u001b[45m  \u001b[49m\u001b[47m  \u001b[49m\u001b[42m  \u001b[49m\u001b[46m  \u001b[49m\u001b[41m  \u001b[49m\u001b[41m  \u001b[49m\u001b[41m  \u001b[49m\u001b[42m  \u001b[49m\u001b[46m  \u001b[49m\u001b[47m  \u001b[49m\n",
      "      \u001b[46m  \u001b[49m\u001b[47m  \u001b[49m\u001b[43m  \u001b[49m\n",
      "      \u001b[46m  \u001b[49m\u001b[47m  \u001b[49m\u001b[43m  \u001b[49m\n",
      "      \u001b[41m  \u001b[49m\u001b[47m  \u001b[49m\u001b[43m  \u001b[49m\n",
      "]\n",
      " \n",
      "[      \u001b[45m  \u001b[49m\u001b[47m  \u001b[49m\u001b[47m  \u001b[49m\n",
      "      \u001b[42m  \u001b[49m\u001b[43m  \u001b[49m\u001b[43m  \u001b[49m\n",
      "      \u001b[42m  \u001b[49m\u001b[43m  \u001b[49m\u001b[43m  \u001b[49m\n",
      "\u001b[46m  \u001b[49m\u001b[45m  \u001b[49m\u001b[45m  \u001b[49m\u001b[47m  \u001b[49m\u001b[45m  \u001b[49m\u001b[45m  \u001b[49m\u001b[42m  \u001b[49m\u001b[42m  \u001b[49m\u001b[46m  \u001b[49m\u001b[41m  \u001b[49m\u001b[41m  \u001b[49m\u001b[43m  \u001b[49m\n",
      "\u001b[46m  \u001b[49m\u001b[45m  \u001b[49m\u001b[45m  \u001b[49m\u001b[47m  \u001b[49m\u001b[42m  \u001b[49m\u001b[46m  \u001b[49m\u001b[41m  \u001b[49m\u001b[41m  \u001b[49m\u001b[41m  \u001b[49m\u001b[42m  \u001b[49m\u001b[46m  \u001b[49m\u001b[43m  \u001b[49m\n",
      "\u001b[42m  \u001b[49m\u001b[45m  \u001b[49m\u001b[45m  \u001b[49m\u001b[47m  \u001b[49m\u001b[42m  \u001b[49m\u001b[46m  \u001b[49m\u001b[41m  \u001b[49m\u001b[41m  \u001b[49m\u001b[41m  \u001b[49m\u001b[42m  \u001b[49m\u001b[46m  \u001b[49m\u001b[47m  \u001b[49m\n",
      "      \u001b[46m  \u001b[49m\u001b[47m  \u001b[49m\u001b[43m  \u001b[49m\n",
      "      \u001b[46m  \u001b[49m\u001b[47m  \u001b[49m\u001b[43m  \u001b[49m\n",
      "      \u001b[41m  \u001b[49m\u001b[47m  \u001b[49m\u001b[43m  \u001b[49m\n",
      "]\n",
      " \n",
      "[      \u001b[47m  \u001b[49m\u001b[47m  \u001b[49m\u001b[47m  \u001b[49m\n",
      "      \u001b[43m  \u001b[49m\u001b[43m  \u001b[49m\u001b[43m  \u001b[49m\n",
      "      \u001b[43m  \u001b[49m\u001b[43m  \u001b[49m\u001b[43m  \u001b[49m\n",
      "\u001b[42m  \u001b[49m\u001b[46m  \u001b[49m\u001b[46m  \u001b[49m\u001b[45m  \u001b[49m\u001b[45m  \u001b[49m\u001b[45m  \u001b[49m\u001b[42m  \u001b[49m\u001b[42m  \u001b[49m\u001b[46m  \u001b[49m\u001b[41m  \u001b[49m\u001b[41m  \u001b[49m\u001b[41m  \u001b[49m\n",
      "\u001b[45m  \u001b[49m\u001b[45m  \u001b[49m\u001b[45m  \u001b[49m\u001b[42m  \u001b[49m\u001b[42m  \u001b[49m\u001b[46m  \u001b[49m\u001b[41m  \u001b[49m\u001b[41m  \u001b[49m\u001b[41m  \u001b[49m\u001b[42m  \u001b[49m\u001b[46m  \u001b[49m\u001b[46m  \u001b[49m\n",
      "\u001b[45m  \u001b[49m\u001b[45m  \u001b[49m\u001b[45m  \u001b[49m\u001b[42m  \u001b[49m\u001b[42m  \u001b[49m\u001b[46m  \u001b[49m\u001b[41m  \u001b[49m\u001b[41m  \u001b[49m\u001b[41m  \u001b[49m\u001b[42m  \u001b[49m\u001b[46m  \u001b[49m\u001b[46m  \u001b[49m\n",
      "      \u001b[47m  \u001b[49m\u001b[47m  \u001b[49m\u001b[43m  \u001b[49m\n",
      "      \u001b[47m  \u001b[49m\u001b[47m  \u001b[49m\u001b[43m  \u001b[49m\n",
      "      \u001b[47m  \u001b[49m\u001b[47m  \u001b[49m\u001b[43m  \u001b[49m\n",
      "]\n",
      " \n",
      "[      \u001b[43m  \u001b[49m\u001b[43m  \u001b[49m\u001b[47m  \u001b[49m\n",
      "      \u001b[43m  \u001b[49m\u001b[43m  \u001b[49m\u001b[47m  \u001b[49m\n",
      "      \u001b[43m  \u001b[49m\u001b[43m  \u001b[49m\u001b[47m  \u001b[49m\n",
      "\u001b[45m  \u001b[49m\u001b[45m  \u001b[49m\u001b[45m  \u001b[49m\u001b[42m  \u001b[49m\u001b[42m  \u001b[49m\u001b[46m  \u001b[49m\u001b[41m  \u001b[49m\u001b[41m  \u001b[49m\u001b[41m  \u001b[49m\u001b[42m  \u001b[49m\u001b[46m  \u001b[49m\u001b[46m  \u001b[49m\n",
      "\u001b[45m  \u001b[49m\u001b[45m  \u001b[49m\u001b[45m  \u001b[49m\u001b[42m  \u001b[49m\u001b[42m  \u001b[49m\u001b[46m  \u001b[49m\u001b[41m  \u001b[49m\u001b[41m  \u001b[49m\u001b[41m  \u001b[49m\u001b[42m  \u001b[49m\u001b[46m  \u001b[49m\u001b[46m  \u001b[49m\n",
      "\u001b[45m  \u001b[49m\u001b[45m  \u001b[49m\u001b[45m  \u001b[49m\u001b[42m  \u001b[49m\u001b[42m  \u001b[49m\u001b[46m  \u001b[49m\u001b[41m  \u001b[49m\u001b[41m  \u001b[49m\u001b[41m  \u001b[49m\u001b[42m  \u001b[49m\u001b[46m  \u001b[49m\u001b[46m  \u001b[49m\n",
      "      \u001b[47m  \u001b[49m\u001b[47m  \u001b[49m\u001b[43m  \u001b[49m\n",
      "      \u001b[47m  \u001b[49m\u001b[47m  \u001b[49m\u001b[43m  \u001b[49m\n",
      "      \u001b[47m  \u001b[49m\u001b[47m  \u001b[49m\u001b[43m  \u001b[49m\n",
      "]\n",
      " \n",
      "[      \u001b[43m  \u001b[49m\u001b[43m  \u001b[49m\u001b[43m  \u001b[49m\n",
      "      \u001b[43m  \u001b[49m\u001b[43m  \u001b[49m\u001b[43m  \u001b[49m\n",
      "      \u001b[43m  \u001b[49m\u001b[43m  \u001b[49m\u001b[43m  \u001b[49m\n",
      "\u001b[45m  \u001b[49m\u001b[45m  \u001b[49m\u001b[45m  \u001b[49m\u001b[42m  \u001b[49m\u001b[42m  \u001b[49m\u001b[42m  \u001b[49m\u001b[41m  \u001b[49m\u001b[41m  \u001b[49m\u001b[41m  \u001b[49m\u001b[46m  \u001b[49m\u001b[46m  \u001b[49m\u001b[46m  \u001b[49m\n",
      "\u001b[45m  \u001b[49m\u001b[45m  \u001b[49m\u001b[45m  \u001b[49m\u001b[42m  \u001b[49m\u001b[42m  \u001b[49m\u001b[42m  \u001b[49m\u001b[41m  \u001b[49m\u001b[41m  \u001b[49m\u001b[41m  \u001b[49m\u001b[46m  \u001b[49m\u001b[46m  \u001b[49m\u001b[46m  \u001b[49m\n",
      "\u001b[45m  \u001b[49m\u001b[45m  \u001b[49m\u001b[45m  \u001b[49m\u001b[42m  \u001b[49m\u001b[42m  \u001b[49m\u001b[42m  \u001b[49m\u001b[41m  \u001b[49m\u001b[41m  \u001b[49m\u001b[41m  \u001b[49m\u001b[46m  \u001b[49m\u001b[46m  \u001b[49m\u001b[46m  \u001b[49m\n",
      "      \u001b[47m  \u001b[49m\u001b[47m  \u001b[49m\u001b[47m  \u001b[49m\n",
      "      \u001b[47m  \u001b[49m\u001b[47m  \u001b[49m\u001b[47m  \u001b[49m\n",
      "      \u001b[47m  \u001b[49m\u001b[47m  \u001b[49m\u001b[47m  \u001b[49m\n",
      "]\n"
     ]
    }
   ],
   "source": [
    "## print([cube[0]])\n",
    "cuba=cube[0].copy()\n",
    "for i in a :\n",
    "    print(' ')\n",
    "    print([cuba(i)])"
   ]
  },
  {
   "cell_type": "markdown",
   "metadata": {},
   "source": [
    "## Training the neural networks "
   ]
  },
  {
   "cell_type": "code",
   "execution_count": 1175,
   "metadata": {},
   "outputs": [
    {
     "ename": "OSError",
     "evalue": "SavedModel file does not exist at: nn_int0.sav/{saved_model.pbtxt|saved_model.pb}",
     "output_type": "error",
     "traceback": [
      "\u001b[1;31m---------------------------------------------------------------------------\u001b[0m",
      "\u001b[1;31mOSError\u001b[0m                                   Traceback (most recent call last)",
      "\u001b[1;32m<ipython-input-1175-a35049062807>\u001b[0m in \u001b[0;36m<module>\u001b[1;34m\u001b[0m\n\u001b[0;32m      3\u001b[0m \u001b[1;32mfor\u001b[0m \u001b[0mi\u001b[0m \u001b[1;32min\u001b[0m \u001b[0mrange\u001b[0m\u001b[1;33m(\u001b[0m\u001b[1;36m0\u001b[0m\u001b[1;33m,\u001b[0m\u001b[1;36m6\u001b[0m\u001b[1;33m)\u001b[0m\u001b[1;33m:\u001b[0m\u001b[1;33m\u001b[0m\u001b[1;33m\u001b[0m\u001b[0m\n\u001b[0;32m      4\u001b[0m     \u001b[0mnn_hot\u001b[0m\u001b[1;33m.\u001b[0m\u001b[0mappend\u001b[0m\u001b[1;33m(\u001b[0m \u001b[0mkeras\u001b[0m\u001b[1;33m.\u001b[0m\u001b[0mmodels\u001b[0m\u001b[1;33m.\u001b[0m\u001b[0mload_model\u001b[0m\u001b[1;33m(\u001b[0m\u001b[1;34m'nn_hot'\u001b[0m\u001b[1;33m+\u001b[0m\u001b[0mstr\u001b[0m\u001b[1;33m(\u001b[0m\u001b[0mi\u001b[0m\u001b[1;33m)\u001b[0m\u001b[1;33m+\u001b[0m\u001b[1;34m'.sav'\u001b[0m\u001b[1;33m)\u001b[0m\u001b[1;33m)\u001b[0m\u001b[1;33m\u001b[0m\u001b[1;33m\u001b[0m\u001b[0m\n\u001b[1;32m----> 5\u001b[1;33m     \u001b[0mnn_int\u001b[0m\u001b[1;33m.\u001b[0m\u001b[0mappend\u001b[0m\u001b[1;33m(\u001b[0m \u001b[0mkeras\u001b[0m\u001b[1;33m.\u001b[0m\u001b[0mmodels\u001b[0m\u001b[1;33m.\u001b[0m\u001b[0mload_model\u001b[0m\u001b[1;33m(\u001b[0m\u001b[1;34m'nn_int'\u001b[0m\u001b[1;33m+\u001b[0m\u001b[0mstr\u001b[0m\u001b[1;33m(\u001b[0m\u001b[0mi\u001b[0m\u001b[1;33m)\u001b[0m\u001b[1;33m+\u001b[0m\u001b[1;34m'.sav'\u001b[0m\u001b[1;33m)\u001b[0m\u001b[1;33m)\u001b[0m\u001b[1;33m\u001b[0m\u001b[1;33m\u001b[0m\u001b[0m\n\u001b[0m",
      "\u001b[1;32m~\\AppData\\Roaming\\Python\\Python38\\site-packages\\tensorflow\\python\\keras\\saving\\save.py\u001b[0m in \u001b[0;36mload_model\u001b[1;34m(filepath, custom_objects, compile, options)\u001b[0m\n\u001b[0;32m    184\u001b[0m     \u001b[0mfilepath\u001b[0m \u001b[1;33m=\u001b[0m \u001b[0mpath_to_string\u001b[0m\u001b[1;33m(\u001b[0m\u001b[0mfilepath\u001b[0m\u001b[1;33m)\u001b[0m\u001b[1;33m\u001b[0m\u001b[1;33m\u001b[0m\u001b[0m\n\u001b[0;32m    185\u001b[0m     \u001b[1;32mif\u001b[0m \u001b[0misinstance\u001b[0m\u001b[1;33m(\u001b[0m\u001b[0mfilepath\u001b[0m\u001b[1;33m,\u001b[0m \u001b[0msix\u001b[0m\u001b[1;33m.\u001b[0m\u001b[0mstring_types\u001b[0m\u001b[1;33m)\u001b[0m\u001b[1;33m:\u001b[0m\u001b[1;33m\u001b[0m\u001b[1;33m\u001b[0m\u001b[0m\n\u001b[1;32m--> 186\u001b[1;33m       \u001b[0mloader_impl\u001b[0m\u001b[1;33m.\u001b[0m\u001b[0mparse_saved_model\u001b[0m\u001b[1;33m(\u001b[0m\u001b[0mfilepath\u001b[0m\u001b[1;33m)\u001b[0m\u001b[1;33m\u001b[0m\u001b[1;33m\u001b[0m\u001b[0m\n\u001b[0m\u001b[0;32m    187\u001b[0m       \u001b[1;32mreturn\u001b[0m \u001b[0msaved_model_load\u001b[0m\u001b[1;33m.\u001b[0m\u001b[0mload\u001b[0m\u001b[1;33m(\u001b[0m\u001b[0mfilepath\u001b[0m\u001b[1;33m,\u001b[0m \u001b[0mcompile\u001b[0m\u001b[1;33m,\u001b[0m \u001b[0moptions\u001b[0m\u001b[1;33m)\u001b[0m\u001b[1;33m\u001b[0m\u001b[1;33m\u001b[0m\u001b[0m\n\u001b[0;32m    188\u001b[0m \u001b[1;33m\u001b[0m\u001b[0m\n",
      "\u001b[1;32m~\\AppData\\Roaming\\Python\\Python38\\site-packages\\tensorflow\\python\\saved_model\\loader_impl.py\u001b[0m in \u001b[0;36mparse_saved_model\u001b[1;34m(export_dir)\u001b[0m\n\u001b[0;32m    108\u001b[0m       \u001b[1;32mraise\u001b[0m \u001b[0mIOError\u001b[0m\u001b[1;33m(\u001b[0m\u001b[1;34m\"Cannot parse file %s: %s.\"\u001b[0m \u001b[1;33m%\u001b[0m \u001b[1;33m(\u001b[0m\u001b[0mpath_to_pbtxt\u001b[0m\u001b[1;33m,\u001b[0m \u001b[0mstr\u001b[0m\u001b[1;33m(\u001b[0m\u001b[0me\u001b[0m\u001b[1;33m)\u001b[0m\u001b[1;33m)\u001b[0m\u001b[1;33m)\u001b[0m\u001b[1;33m\u001b[0m\u001b[1;33m\u001b[0m\u001b[0m\n\u001b[0;32m    109\u001b[0m   \u001b[1;32melse\u001b[0m\u001b[1;33m:\u001b[0m\u001b[1;33m\u001b[0m\u001b[1;33m\u001b[0m\u001b[0m\n\u001b[1;32m--> 110\u001b[1;33m     raise IOError(\"SavedModel file does not exist at: %s/{%s|%s}\" %\n\u001b[0m\u001b[0;32m    111\u001b[0m                   (export_dir,\n\u001b[0;32m    112\u001b[0m                    \u001b[0mconstants\u001b[0m\u001b[1;33m.\u001b[0m\u001b[0mSAVED_MODEL_FILENAME_PBTXT\u001b[0m\u001b[1;33m,\u001b[0m\u001b[1;33m\u001b[0m\u001b[1;33m\u001b[0m\u001b[0m\n",
      "\u001b[1;31mOSError\u001b[0m: SavedModel file does not exist at: nn_int0.sav/{saved_model.pbtxt|saved_model.pb}"
     ]
    }
   ],
   "source": [
    "nn_hot=[]\n",
    "nn_int=[]\n",
    "for i in range(0,6): \n",
    "    nn_hot.append( keras.models.load_model('nn_hot'+str(i)+'.sav'))\n",
    "    nn_int.append( keras.models.load_model('nn_int'+str(i)+'.sav'))"
   ]
  },
  {
   "cell_type": "code",
   "execution_count": 1182,
   "metadata": {
    "scrolled": true
   },
   "outputs": [
    {
     "name": "stdout",
     "output_type": "stream",
     "text": [
      "Model: \"functional_211\"\n",
      "_________________________________________________________________\n",
      "Layer (type)                 Output Shape              Param #   \n",
      "=================================================================\n",
      "input_126 (InputLayer)       [(None, 324)]             0         \n",
      "_________________________________________________________________\n",
      "dense_802 (Dense)            (None, 1024)              332800    \n",
      "_________________________________________________________________\n",
      "leaky_re_lu_384 (LeakyReLU)  (None, 1024)              0         \n",
      "_________________________________________________________________\n",
      "dense_803 (Dense)            (None, 1024)              1049600   \n",
      "_________________________________________________________________\n",
      "leaky_re_lu_385 (LeakyReLU)  (None, 1024)              0         \n",
      "_________________________________________________________________\n",
      "dense_804 (Dense)            (None, 1024)              1049600   \n",
      "_________________________________________________________________\n",
      "leaky_re_lu_386 (LeakyReLU)  (None, 1024)              0         \n",
      "_________________________________________________________________\n",
      "dense_805 (Dense)            (None, 50)                51250     \n",
      "_________________________________________________________________\n",
      "leaky_re_lu_387 (LeakyReLU)  (None, 50)                0         \n",
      "_________________________________________________________________\n",
      "dense_806 (Dense)            (None, 24)                1224      \n",
      "=================================================================\n",
      "Total params: 2,484,474\n",
      "Trainable params: 2,484,474\n",
      "Non-trainable params: 0\n",
      "_________________________________________________________________\n",
      "Epoch 1/10\n",
      "100/100 [==============================] - 10s 103ms/step - loss: 2.7386 - accuracy: 0.2078\n",
      "Epoch 2/10\n",
      "100/100 [==============================] - 10s 102ms/step - loss: 2.0751 - accuracy: 0.3233\n",
      "Epoch 3/10\n",
      "100/100 [==============================] - 10s 104ms/step - loss: 1.7851 - accuracy: 0.3796\n",
      "Epoch 4/10\n",
      "100/100 [==============================] - 11s 106ms/step - loss: 1.6629 - accuracy: 0.3960\n",
      "Epoch 5/10\n",
      "100/100 [==============================] - 10s 104ms/step - loss: 1.6034 - accuracy: 0.4055\n",
      "Epoch 6/10\n",
      "100/100 [==============================] - 11s 106ms/step - loss: 1.5682 - accuracy: 0.4117\n",
      "Epoch 7/10\n",
      "100/100 [==============================] - 10s 104ms/step - loss: 1.5420 - accuracy: 0.4144\n",
      "Epoch 8/10\n",
      "100/100 [==============================] - 11s 106ms/step - loss: 1.5204 - accuracy: 0.4183\n",
      "Epoch 9/10\n",
      "100/100 [==============================] - 10s 103ms/step - loss: 1.5034 - accuracy: 0.4195\n",
      "Epoch 10/10\n",
      "100/100 [==============================] - 10s 104ms/step - loss: 1.4885 - accuracy: 0.4236\n",
      "Model: \"functional_213\"\n",
      "_________________________________________________________________\n",
      "Layer (type)                 Output Shape              Param #   \n",
      "=================================================================\n",
      "input_127 (InputLayer)       [(None, 324)]             0         \n",
      "_________________________________________________________________\n",
      "dense_807 (Dense)            (None, 1024)              332800    \n",
      "_________________________________________________________________\n",
      "leaky_re_lu_388 (LeakyReLU)  (None, 1024)              0         \n",
      "_________________________________________________________________\n",
      "dense_808 (Dense)            (None, 1024)              1049600   \n",
      "_________________________________________________________________\n",
      "leaky_re_lu_389 (LeakyReLU)  (None, 1024)              0         \n",
      "_________________________________________________________________\n",
      "dense_809 (Dense)            (None, 1024)              1049600   \n",
      "_________________________________________________________________\n",
      "leaky_re_lu_390 (LeakyReLU)  (None, 1024)              0         \n",
      "_________________________________________________________________\n",
      "dense_810 (Dense)            (None, 50)                51250     \n",
      "_________________________________________________________________\n",
      "leaky_re_lu_391 (LeakyReLU)  (None, 50)                0         \n",
      "_________________________________________________________________\n",
      "dense_811 (Dense)            (None, 24)                1224      \n",
      "=================================================================\n",
      "Total params: 2,484,474\n",
      "Trainable params: 2,484,474\n",
      "Non-trainable params: 0\n",
      "_________________________________________________________________\n",
      "Epoch 1/10\n",
      "100/100 [==============================] - 11s 109ms/step - loss: 1.7868 - accuracy: 0.3525\n",
      "Epoch 2/10\n",
      "100/100 [==============================] - 10s 101ms/step - loss: 1.4747 - accuracy: 0.4270\n",
      "Epoch 3/10\n",
      "100/100 [==============================] - 11s 106ms/step - loss: 1.4333 - accuracy: 0.4380\n",
      "Epoch 4/10\n",
      "100/100 [==============================] - 11s 107ms/step - loss: 1.4123 - accuracy: 0.4445\n",
      "Epoch 5/10\n",
      "100/100 [==============================] - 11s 107ms/step - loss: 1.3990 - accuracy: 0.4493\n",
      "Epoch 6/10\n",
      "100/100 [==============================] - 11s 107ms/step - loss: 1.3846 - accuracy: 0.4577\n",
      "Epoch 7/10\n",
      "100/100 [==============================] - 10s 105ms/step - loss: 1.3716 - accuracy: 0.4632\n",
      "Epoch 8/10\n",
      "100/100 [==============================] - 10s 103ms/step - loss: 1.3599 - accuracy: 0.4678\n",
      "Epoch 9/10\n",
      "100/100 [==============================] - 10s 103ms/step - loss: 1.3469 - accuracy: 0.4721\n",
      "Epoch 10/10\n",
      "100/100 [==============================] - 10s 105ms/step - loss: 1.3363 - accuracy: 0.4766\n",
      "Model: \"functional_215\"\n",
      "_________________________________________________________________\n",
      "Layer (type)                 Output Shape              Param #   \n",
      "=================================================================\n",
      "input_128 (InputLayer)       [(None, 324)]             0         \n",
      "_________________________________________________________________\n",
      "dense_812 (Dense)            (None, 1024)              332800    \n",
      "_________________________________________________________________\n",
      "leaky_re_lu_392 (LeakyReLU)  (None, 1024)              0         \n",
      "_________________________________________________________________\n",
      "dense_813 (Dense)            (None, 1024)              1049600   \n",
      "_________________________________________________________________\n",
      "leaky_re_lu_393 (LeakyReLU)  (None, 1024)              0         \n",
      "_________________________________________________________________\n",
      "dense_814 (Dense)            (None, 1024)              1049600   \n",
      "_________________________________________________________________\n",
      "leaky_re_lu_394 (LeakyReLU)  (None, 1024)              0         \n",
      "_________________________________________________________________\n",
      "dense_815 (Dense)            (None, 50)                51250     \n",
      "_________________________________________________________________\n",
      "leaky_re_lu_395 (LeakyReLU)  (None, 50)                0         \n",
      "_________________________________________________________________\n",
      "dense_816 (Dense)            (None, 24)                1224      \n",
      "=================================================================\n",
      "Total params: 2,484,474\n",
      "Trainable params: 2,484,474\n",
      "Non-trainable params: 0\n",
      "_________________________________________________________________\n",
      "Epoch 1/10\n",
      "100/100 [==============================] - 11s 106ms/step - loss: 1.5505 - accuracy: 0.4048\n",
      "Epoch 2/10\n",
      "100/100 [==============================] - 11s 107ms/step - loss: 1.3908 - accuracy: 0.4528\n",
      "Epoch 3/10\n",
      "100/100 [==============================] - 11s 109ms/step - loss: 1.3534 - accuracy: 0.4669\n",
      "Epoch 4/10\n",
      "100/100 [==============================] - 11s 108ms/step - loss: 1.3246 - accuracy: 0.4797\n",
      "Epoch 5/10\n",
      "100/100 [==============================] - 11s 109ms/step - loss: 1.2962 - accuracy: 0.4932\n",
      "Epoch 6/10\n",
      "100/100 [==============================] - 11s 107ms/step - loss: 1.2785 - accuracy: 0.5000\n",
      "Epoch 7/10\n",
      "100/100 [==============================] - 10s 102ms/step - loss: 1.2622 - accuracy: 0.5090\n",
      "Epoch 8/10\n",
      "100/100 [==============================] - 10s 101ms/step - loss: 1.2484 - accuracy: 0.5153\n",
      "Epoch 9/10\n",
      "100/100 [==============================] - 10s 105ms/step - loss: 1.2325 - accuracy: 0.5254\n",
      "Epoch 10/10\n",
      "100/100 [==============================] - 10s 105ms/step - loss: 1.2082 - accuracy: 0.5355\n",
      "Model: \"functional_217\"\n",
      "_________________________________________________________________\n",
      "Layer (type)                 Output Shape              Param #   \n",
      "=================================================================\n",
      "input_129 (InputLayer)       [(None, 324)]             0         \n",
      "_________________________________________________________________\n",
      "dense_817 (Dense)            (None, 1024)              332800    \n",
      "_________________________________________________________________\n",
      "leaky_re_lu_396 (LeakyReLU)  (None, 1024)              0         \n",
      "_________________________________________________________________\n",
      "dense_818 (Dense)            (None, 1024)              1049600   \n",
      "_________________________________________________________________\n",
      "leaky_re_lu_397 (LeakyReLU)  (None, 1024)              0         \n",
      "_________________________________________________________________\n",
      "dense_819 (Dense)            (None, 1024)              1049600   \n",
      "_________________________________________________________________\n",
      "leaky_re_lu_398 (LeakyReLU)  (None, 1024)              0         \n",
      "_________________________________________________________________\n",
      "dense_820 (Dense)            (None, 50)                51250     \n",
      "_________________________________________________________________\n",
      "leaky_re_lu_399 (LeakyReLU)  (None, 50)                0         \n",
      "_________________________________________________________________\n",
      "dense_821 (Dense)            (None, 24)                1224      \n",
      "=================================================================\n",
      "Total params: 2,484,474\n",
      "Trainable params: 2,484,474\n",
      "Non-trainable params: 0\n",
      "_________________________________________________________________\n"
     ]
    },
    {
     "name": "stdout",
     "output_type": "stream",
     "text": [
      "Epoch 1/10\n",
      "100/100 [==============================] - 10s 101ms/step - loss: 13.7810 - accuracy: 0.2888\n",
      "Epoch 2/10\n",
      "100/100 [==============================] - 10s 100ms/step - loss: 1.4645 - accuracy: 0.4208\n",
      "Epoch 3/10\n",
      "100/100 [==============================] - 10s 100ms/step - loss: 1.4317 - accuracy: 0.4376\n",
      "Epoch 4/10\n",
      "100/100 [==============================] - 10s 101ms/step - loss: 1.4191 - accuracy: 0.4413\n",
      "Epoch 5/10\n",
      "100/100 [==============================] - 11s 109ms/step - loss: 1.3922 - accuracy: 0.4518\n",
      "Epoch 6/10\n",
      "100/100 [==============================] - 10s 104ms/step - loss: 1.3770 - accuracy: 0.4579\n",
      "Epoch 7/10\n",
      "100/100 [==============================] - 11s 107ms/step - loss: 1.3740 - accuracy: 0.4590\n",
      "Epoch 8/10\n",
      "100/100 [==============================] - 11s 109ms/step - loss: 1.3496 - accuracy: 0.4657\n",
      "Epoch 9/10\n",
      "100/100 [==============================] - 11s 109ms/step - loss: 1.3378 - accuracy: 0.4722\n",
      "Epoch 10/10\n",
      "100/100 [==============================] - 10s 103ms/step - loss: 1.3415 - accuracy: 0.4718\n",
      "Model: \"functional_219\"\n",
      "_________________________________________________________________\n",
      "Layer (type)                 Output Shape              Param #   \n",
      "=================================================================\n",
      "input_130 (InputLayer)       [(None, 324)]             0         \n",
      "_________________________________________________________________\n",
      "dense_822 (Dense)            (None, 1024)              332800    \n",
      "_________________________________________________________________\n",
      "leaky_re_lu_400 (LeakyReLU)  (None, 1024)              0         \n",
      "_________________________________________________________________\n",
      "dense_823 (Dense)            (None, 1024)              1049600   \n",
      "_________________________________________________________________\n",
      "leaky_re_lu_401 (LeakyReLU)  (None, 1024)              0         \n",
      "_________________________________________________________________\n",
      "dense_824 (Dense)            (None, 1024)              1049600   \n",
      "_________________________________________________________________\n",
      "leaky_re_lu_402 (LeakyReLU)  (None, 1024)              0         \n",
      "_________________________________________________________________\n",
      "dense_825 (Dense)            (None, 50)                51250     \n",
      "_________________________________________________________________\n",
      "leaky_re_lu_403 (LeakyReLU)  (None, 50)                0         \n",
      "_________________________________________________________________\n",
      "dense_826 (Dense)            (None, 24)                1224      \n",
      "=================================================================\n",
      "Total params: 2,484,474\n",
      "Trainable params: 2,484,474\n",
      "Non-trainable params: 0\n",
      "_________________________________________________________________\n",
      "Epoch 1/10\n",
      "100/100 [==============================] - 11s 106ms/step - loss: 28844990464.0000 - accuracy: 0.1432\n",
      "Epoch 2/10\n",
      "100/100 [==============================] - 11s 106ms/step - loss: 476356448.0000 - accuracy: 0.2817\n",
      "Epoch 3/10\n",
      "100/100 [==============================] - 11s 110ms/step - loss: 88278472.0000 - accuracy: 0.3094\n",
      "Epoch 4/10\n",
      "100/100 [==============================] - 10s 101ms/step - loss: 36893844.0000 - accuracy: 0.3344\n",
      "Epoch 5/10\n",
      "100/100 [==============================] - 10s 101ms/step - loss: 41398100.0000 - accuracy: 0.3055\n",
      "Epoch 6/10\n",
      "100/100 [==============================] - 10s 100ms/step - loss: 23863144.0000 - accuracy: 0.3282\n",
      "Epoch 7/10\n",
      "100/100 [==============================] - 10s 103ms/step - loss: 15519318.0000 - accuracy: 0.3425\n",
      "Epoch 8/10\n",
      "100/100 [==============================] - 10s 103ms/step - loss: 15277145.0000 - accuracy: 0.3327\n",
      "Epoch 9/10\n",
      "100/100 [==============================] - 10s 100ms/step - loss: 7384972.5000 - accuracy: 0.3476\n",
      "Epoch 10/10\n",
      "100/100 [==============================] - 10s 98ms/step - loss: 11387507.0000 - accuracy: 0.3244\n",
      "Model: \"functional_221\"\n",
      "_________________________________________________________________\n",
      "Layer (type)                 Output Shape              Param #   \n",
      "=================================================================\n",
      "input_131 (InputLayer)       [(None, 324)]             0         \n",
      "_________________________________________________________________\n",
      "dense_827 (Dense)            (None, 1024)              332800    \n",
      "_________________________________________________________________\n",
      "leaky_re_lu_404 (LeakyReLU)  (None, 1024)              0         \n",
      "_________________________________________________________________\n",
      "dense_828 (Dense)            (None, 1024)              1049600   \n",
      "_________________________________________________________________\n",
      "leaky_re_lu_405 (LeakyReLU)  (None, 1024)              0         \n",
      "_________________________________________________________________\n",
      "dense_829 (Dense)            (None, 1024)              1049600   \n",
      "_________________________________________________________________\n",
      "leaky_re_lu_406 (LeakyReLU)  (None, 1024)              0         \n",
      "_________________________________________________________________\n",
      "dense_830 (Dense)            (None, 50)                51250     \n",
      "_________________________________________________________________\n",
      "leaky_re_lu_407 (LeakyReLU)  (None, 50)                0         \n",
      "_________________________________________________________________\n",
      "dense_831 (Dense)            (None, 24)                1224      \n",
      "=================================================================\n",
      "Total params: 2,484,474\n",
      "Trainable params: 2,484,474\n",
      "Non-trainable params: 0\n",
      "_________________________________________________________________\n",
      "Epoch 1/10\n",
      "100/100 [==============================] - 10s 99ms/step - loss: 7855873141506048.0000 - accuracy: 0.1375\n",
      "Epoch 2/10\n",
      "100/100 [==============================] - 10s 99ms/step - loss: 108791613882368.0000 - accuracy: 0.2543\n",
      "Epoch 3/10\n",
      "100/100 [==============================] - 10s 99ms/step - loss: 20173578829824.0000 - accuracy: 0.2830\n",
      "Epoch 4/10\n",
      "100/100 [==============================] - 10s 100ms/step - loss: 11347298353152.0000 - accuracy: 0.2906\n",
      "Epoch 5/10\n",
      "100/100 [==============================] - 10s 103ms/step - loss: 10614503112704.0000 - accuracy: 0.2894\n",
      "Epoch 6/10\n",
      "100/100 [==============================] - 10s 100ms/step - loss: 19942600605696.0000 - accuracy: 0.2565\n",
      "Epoch 7/10\n",
      "100/100 [==============================] - 10s 97ms/step - loss: 5051991982080.0000 - accuracy: 0.2997\n",
      "Epoch 8/10\n",
      "100/100 [==============================] - 10s 98ms/step - loss: 8128450019721216.0000 - accuracy: 0.2374\n",
      "Epoch 9/10\n",
      "100/100 [==============================] - 10s 98ms/step - loss: 6176805086438621184.0000 - accuracy: 0.1960\n",
      "Epoch 10/10\n",
      "100/100 [==============================] - 10s 99ms/step - loss: 63519074499428352.0000 - accuracy: 0.3045\n"
     ]
    }
   ],
   "source": [
    "\n",
    "def get_model(lr=0.0001):\n",
    "    input1 = Input((324,))\n",
    "\n",
    "    d1 = Dense(1024)\n",
    "    d2 = Dense(1024)\n",
    "    d3 = Dense(1024)\n",
    "\n",
    "    d4 = Dense(50)\n",
    "\n",
    "    x1 = d1(input1)\n",
    "    x1 = LeakyReLU()(x1)\n",
    "    x1 = d2(x1)\n",
    "    x1 = LeakyReLU()(x1)\n",
    "    x1 = d3(x1)\n",
    "    x1 = LeakyReLU()(x1)\n",
    "    x1 = d4(x1)\n",
    "    x1 = LeakyReLU()(x1)\n",
    "\n",
    "\n",
    "    out_policy = Dense(len(rotations), activation=\"softmax\")(x1)\n",
    "\n",
    "    model = Model(input1, out_policy)\n",
    "\n",
    "    model.compile(loss= 'sparse_categorical_crossentropy', optimizer=Adam(lr),\n",
    "                  metrics='accuracy')\n",
    "    model.summary()\n",
    "\n",
    "    return model\n",
    "\n",
    "nn_hot=[]\n",
    "history_hot=[]\n",
    "learn=[0.00001,0.0001,0.001,0.01,1,10]\n",
    "j=0\n",
    "for i in learn :\n",
    "\n",
    "    nn_hot.append(get_model(lr=i))\n",
    "    history_hot.append(nn_hot[j].fit(X_hot,y_hot,verbose=1,batch_size=1000,epochs=10))\n",
    "    j+=1"
   ]
  },
  {
   "cell_type": "markdown",
   "metadata": {},
   "source": [
    "Saving the model"
   ]
  },
  {
   "cell_type": "code",
   "execution_count": 1183,
   "metadata": {},
   "outputs": [
    {
     "name": "stdout",
     "output_type": "stream",
     "text": [
      "INFO:tensorflow:Assets written to: nn_hot0.sav\\assets\n",
      "INFO:tensorflow:Assets written to: nn_hot1.sav\\assets\n",
      "INFO:tensorflow:Assets written to: nn_hot2.sav\\assets\n",
      "INFO:tensorflow:Assets written to: nn_hot3.sav\\assets\n",
      "INFO:tensorflow:Assets written to: nn_hot4.sav\\assets\n",
      "INFO:tensorflow:Assets written to: nn_hot5.sav\\assets\n"
     ]
    }
   ],
   "source": [
    "filename = 'nn_hot'\n",
    "for i in range(0,len(nn_hot)):\n",
    "    nn_hot[i].save(filename+str(i)+'.sav')\n",
    "    with open('trainHistoryDict_hot'+str(i), 'wb') as file_pi:\n",
    "        pickle.dump(history_hot[i].history, file_pi)\n"
   ]
  },
  {
   "cell_type": "code",
   "execution_count": 1184,
   "metadata": {},
   "outputs": [
    {
     "name": "stdout",
     "output_type": "stream",
     "text": [
      "Model: \"functional_223\"\n",
      "_________________________________________________________________\n",
      "Layer (type)                 Output Shape              Param #   \n",
      "=================================================================\n",
      "input_132 (InputLayer)       [(None, 54)]              0         \n",
      "_________________________________________________________________\n",
      "dense_832 (Dense)            (None, 1024)              56320     \n",
      "_________________________________________________________________\n",
      "leaky_re_lu_408 (LeakyReLU)  (None, 1024)              0         \n",
      "_________________________________________________________________\n",
      "dense_833 (Dense)            (None, 1024)              1049600   \n",
      "_________________________________________________________________\n",
      "leaky_re_lu_409 (LeakyReLU)  (None, 1024)              0         \n",
      "_________________________________________________________________\n",
      "dense_834 (Dense)            (None, 1024)              1049600   \n",
      "_________________________________________________________________\n",
      "leaky_re_lu_410 (LeakyReLU)  (None, 1024)              0         \n",
      "_________________________________________________________________\n",
      "dense_835 (Dense)            (None, 50)                51250     \n",
      "_________________________________________________________________\n",
      "leaky_re_lu_411 (LeakyReLU)  (None, 50)                0         \n",
      "_________________________________________________________________\n",
      "dense_836 (Dense)            (None, 24)                1224      \n",
      "=================================================================\n",
      "Total params: 2,207,994\n",
      "Trainable params: 2,207,994\n",
      "Non-trainable params: 0\n",
      "_________________________________________________________________\n",
      "Epoch 1/10\n",
      "100/100 [==============================] - 10s 99ms/step - loss: 2.4171 - accuracy: 0.1846\n",
      "Epoch 2/10\n",
      "100/100 [==============================] - 10s 97ms/step - loss: 1.9478 - accuracy: 0.2833\n",
      "Epoch 3/10\n",
      "100/100 [==============================] - 10s 97ms/step - loss: 1.8088 - accuracy: 0.3108\n",
      "Epoch 4/10\n",
      "100/100 [==============================] - 10s 97ms/step - loss: 1.7397 - accuracy: 0.3419\n",
      "Epoch 5/10\n",
      "100/100 [==============================] - 10s 97ms/step - loss: 1.6999 - accuracy: 0.3584\n",
      "Epoch 6/10\n",
      "100/100 [==============================] - 10s 97ms/step - loss: 1.6721 - accuracy: 0.3685\n",
      "Epoch 7/10\n",
      "100/100 [==============================] - 10s 99ms/step - loss: 1.6518 - accuracy: 0.3740\n",
      "Epoch 8/10\n",
      "100/100 [==============================] - 10s 97ms/step - loss: 1.6351 - accuracy: 0.3781\n",
      "Epoch 9/10\n",
      "100/100 [==============================] - 10s 101ms/step - loss: 1.6210 - accuracy: 0.3817\n",
      "Epoch 10/10\n",
      "100/100 [==============================] - 10s 96ms/step - loss: 1.6094 - accuracy: 0.3847\n",
      "Model: \"functional_225\"\n",
      "_________________________________________________________________\n",
      "Layer (type)                 Output Shape              Param #   \n",
      "=================================================================\n",
      "input_133 (InputLayer)       [(None, 54)]              0         \n",
      "_________________________________________________________________\n",
      "dense_837 (Dense)            (None, 1024)              56320     \n",
      "_________________________________________________________________\n",
      "leaky_re_lu_412 (LeakyReLU)  (None, 1024)              0         \n",
      "_________________________________________________________________\n",
      "dense_838 (Dense)            (None, 1024)              1049600   \n",
      "_________________________________________________________________\n",
      "leaky_re_lu_413 (LeakyReLU)  (None, 1024)              0         \n",
      "_________________________________________________________________\n",
      "dense_839 (Dense)            (None, 1024)              1049600   \n",
      "_________________________________________________________________\n",
      "leaky_re_lu_414 (LeakyReLU)  (None, 1024)              0         \n",
      "_________________________________________________________________\n",
      "dense_840 (Dense)            (None, 50)                51250     \n",
      "_________________________________________________________________\n",
      "leaky_re_lu_415 (LeakyReLU)  (None, 50)                0         \n",
      "_________________________________________________________________\n",
      "dense_841 (Dense)            (None, 24)                1224      \n",
      "=================================================================\n",
      "Total params: 2,207,994\n",
      "Trainable params: 2,207,994\n",
      "Non-trainable params: 0\n",
      "_________________________________________________________________\n",
      "Epoch 1/10\n",
      "100/100 [==============================] - 10s 98ms/step - loss: 1.8704 - accuracy: 0.2950\n",
      "Epoch 2/10\n",
      "100/100 [==============================] - 10s 98ms/step - loss: 1.6465 - accuracy: 0.3622\n",
      "Epoch 3/10\n",
      "100/100 [==============================] - 10s 97ms/step - loss: 1.5929 - accuracy: 0.3806\n",
      "Epoch 4/10\n",
      "100/100 [==============================] - 10s 97ms/step - loss: 1.5598 - accuracy: 0.3917\n",
      "Epoch 5/10\n",
      "100/100 [==============================] - 10s 97ms/step - loss: 1.5310 - accuracy: 0.4039\n",
      "Epoch 6/10\n",
      "100/100 [==============================] - 10s 96ms/step - loss: 1.5143 - accuracy: 0.4114\n",
      "Epoch 7/10\n",
      "100/100 [==============================] - 10s 97ms/step - loss: 1.4927 - accuracy: 0.4170\n",
      "Epoch 8/10\n",
      "100/100 [==============================] - 10s 97ms/step - loss: 1.4773 - accuracy: 0.4224\n",
      "Epoch 9/10\n",
      "100/100 [==============================] - 10s 96ms/step - loss: 1.4623 - accuracy: 0.4288\n",
      "Epoch 10/10\n",
      "100/100 [==============================] - 10s 97ms/step - loss: 1.4493 - accuracy: 0.4329\n",
      "Model: \"functional_227\"\n",
      "_________________________________________________________________\n",
      "Layer (type)                 Output Shape              Param #   \n",
      "=================================================================\n",
      "input_134 (InputLayer)       [(None, 54)]              0         \n",
      "_________________________________________________________________\n",
      "dense_842 (Dense)            (None, 1024)              56320     \n",
      "_________________________________________________________________\n",
      "leaky_re_lu_416 (LeakyReLU)  (None, 1024)              0         \n",
      "_________________________________________________________________\n",
      "dense_843 (Dense)            (None, 1024)              1049600   \n",
      "_________________________________________________________________\n",
      "leaky_re_lu_417 (LeakyReLU)  (None, 1024)              0         \n",
      "_________________________________________________________________\n",
      "dense_844 (Dense)            (None, 1024)              1049600   \n",
      "_________________________________________________________________\n",
      "leaky_re_lu_418 (LeakyReLU)  (None, 1024)              0         \n",
      "_________________________________________________________________\n",
      "dense_845 (Dense)            (None, 50)                51250     \n",
      "_________________________________________________________________\n",
      "leaky_re_lu_419 (LeakyReLU)  (None, 50)                0         \n",
      "_________________________________________________________________\n",
      "dense_846 (Dense)            (None, 24)                1224      \n",
      "=================================================================\n",
      "Total params: 2,207,994\n",
      "Trainable params: 2,207,994\n",
      "Non-trainable params: 0\n",
      "_________________________________________________________________\n",
      "Epoch 1/10\n",
      "100/100 [==============================] - 10s 98ms/step - loss: 1.7425 - accuracy: 0.3427\n",
      "Epoch 2/10\n",
      "100/100 [==============================] - 10s 97ms/step - loss: 1.5176 - accuracy: 0.4052\n",
      "Epoch 3/10\n",
      "100/100 [==============================] - 10s 97ms/step - loss: 1.4613 - accuracy: 0.42441s - l\n",
      "Epoch 4/10\n",
      "100/100 [==============================] - 9s 95ms/step - loss: 1.4429 - accuracy: 0.4319\n",
      "Epoch 5/10\n",
      "100/100 [==============================] - 10s 95ms/step - loss: 1.4219 - accuracy: 0.44222s - loss: 1.4208 - accuracy: 0.44\n",
      "Epoch 6/10\n",
      "100/100 [==============================] - 10s 95ms/step - loss: 1.3976 - accuracy: 0.4487\n",
      "Epoch 7/10\n",
      "100/100 [==============================] - 10s 96ms/step - loss: 1.3894 - accuracy: 0.4538\n",
      "Epoch 8/10\n",
      "100/100 [==============================] - 10s 96ms/step - loss: 1.3779 - accuracy: 0.4575\n",
      "Epoch 9/10\n",
      "100/100 [==============================] - 9s 95ms/step - loss: 1.3760 - accuracy: 0.4588\n",
      "Epoch 10/10\n",
      "100/100 [==============================] - 10s 97ms/step - loss: 1.3751 - accuracy: 0.4611\n",
      "Model: \"functional_229\"\n",
      "_________________________________________________________________\n",
      "Layer (type)                 Output Shape              Param #   \n",
      "=================================================================\n",
      "input_135 (InputLayer)       [(None, 54)]              0         \n",
      "_________________________________________________________________\n",
      "dense_847 (Dense)            (None, 1024)              56320     \n",
      "_________________________________________________________________\n",
      "leaky_re_lu_420 (LeakyReLU)  (None, 1024)              0         \n",
      "_________________________________________________________________\n",
      "dense_848 (Dense)            (None, 1024)              1049600   \n",
      "_________________________________________________________________\n",
      "leaky_re_lu_421 (LeakyReLU)  (None, 1024)              0         \n",
      "_________________________________________________________________\n",
      "dense_849 (Dense)            (None, 1024)              1049600   \n",
      "_________________________________________________________________\n",
      "leaky_re_lu_422 (LeakyReLU)  (None, 1024)              0         \n",
      "_________________________________________________________________\n",
      "dense_850 (Dense)            (None, 50)                51250     \n",
      "_________________________________________________________________\n",
      "leaky_re_lu_423 (LeakyReLU)  (None, 50)                0         \n",
      "_________________________________________________________________\n",
      "dense_851 (Dense)            (None, 24)                1224      \n",
      "=================================================================\n",
      "Total params: 2,207,994\n",
      "Trainable params: 2,207,994\n",
      "Non-trainable params: 0\n",
      "_________________________________________________________________\n"
     ]
    },
    {
     "name": "stdout",
     "output_type": "stream",
     "text": [
      "Epoch 1/10\n",
      "100/100 [==============================] - 10s 97ms/step - loss: 61.2537 - accuracy: 0.1394\n",
      "Epoch 2/10\n",
      "100/100 [==============================] - 10s 96ms/step - loss: 1.7256 - accuracy: 0.3517\n",
      "Epoch 3/10\n",
      "100/100 [==============================] - 10s 96ms/step - loss: 1.5843 - accuracy: 0.3821\n",
      "Epoch 4/10\n",
      "100/100 [==============================] - 10s 97ms/step - loss: 1.5711 - accuracy: 0.3850\n",
      "Epoch 5/10\n",
      "100/100 [==============================] - 10s 100ms/step - loss: 1.5401 - accuracy: 0.3979\n",
      "Epoch 6/10\n",
      "100/100 [==============================] - 10s 99ms/step - loss: 1.5308 - accuracy: 0.4016\n",
      "Epoch 7/10\n",
      "100/100 [==============================] - 10s 99ms/step - loss: 1.5242 - accuracy: 0.4031\n",
      "Epoch 8/10\n",
      "100/100 [==============================] - 10s 96ms/step - loss: 1.5069 - accuracy: 0.4098\n",
      "Epoch 9/10\n",
      "100/100 [==============================] - 10s 97ms/step - loss: 1.4993 - accuracy: 0.4132\n",
      "Epoch 10/10\n",
      "100/100 [==============================] - 10s 96ms/step - loss: 1.4962 - accuracy: 0.4157\n",
      "Model: \"functional_231\"\n",
      "_________________________________________________________________\n",
      "Layer (type)                 Output Shape              Param #   \n",
      "=================================================================\n",
      "input_136 (InputLayer)       [(None, 54)]              0         \n",
      "_________________________________________________________________\n",
      "dense_852 (Dense)            (None, 1024)              56320     \n",
      "_________________________________________________________________\n",
      "leaky_re_lu_424 (LeakyReLU)  (None, 1024)              0         \n",
      "_________________________________________________________________\n",
      "dense_853 (Dense)            (None, 1024)              1049600   \n",
      "_________________________________________________________________\n",
      "leaky_re_lu_425 (LeakyReLU)  (None, 1024)              0         \n",
      "_________________________________________________________________\n",
      "dense_854 (Dense)            (None, 1024)              1049600   \n",
      "_________________________________________________________________\n",
      "leaky_re_lu_426 (LeakyReLU)  (None, 1024)              0         \n",
      "_________________________________________________________________\n",
      "dense_855 (Dense)            (None, 50)                51250     \n",
      "_________________________________________________________________\n",
      "leaky_re_lu_427 (LeakyReLU)  (None, 50)                0         \n",
      "_________________________________________________________________\n",
      "dense_856 (Dense)            (None, 24)                1224      \n",
      "=================================================================\n",
      "Total params: 2,207,994\n",
      "Trainable params: 2,207,994\n",
      "Non-trainable params: 0\n",
      "_________________________________________________________________\n",
      "Epoch 1/10\n",
      "100/100 [==============================] - 10s 98ms/step - loss: 338545180672.0000 - accuracy: 0.0994\n",
      "Epoch 2/10\n",
      "100/100 [==============================] - 10s 97ms/step - loss: 15556133888.0000 - accuracy: 0.2126\n",
      "Epoch 3/10\n",
      "100/100 [==============================] - 10s 97ms/step - loss: 625002048.0000 - accuracy: 0.2604\n",
      "Epoch 4/10\n",
      "100/100 [==============================] - 10s 97ms/step - loss: 518975200.0000 - accuracy: 0.2577\n",
      "Epoch 5/10\n",
      "100/100 [==============================] - 10s 96ms/step - loss: 226204128.0000 - accuracy: 0.2634\n",
      "Epoch 6/10\n",
      "100/100 [==============================] - 10s 96ms/step - loss: 138048256.0000 - accuracy: 0.2656\n",
      "Epoch 7/10\n",
      "100/100 [==============================] - 10s 96ms/step - loss: 155713648.0000 - accuracy: 0.2469\n",
      "Epoch 8/10\n",
      "100/100 [==============================] - 10s 103ms/step - loss: 123449064.0000 - accuracy: 0.2537\n",
      "Epoch 9/10\n",
      "100/100 [==============================] - 11s 107ms/step - loss: 109923368.0000 - accuracy: 0.2367\n",
      "Epoch 10/10\n",
      "100/100 [==============================] - 10s 96ms/step - loss: 616815104.0000 - accuracy: 0.2252\n",
      "Model: \"functional_233\"\n",
      "_________________________________________________________________\n",
      "Layer (type)                 Output Shape              Param #   \n",
      "=================================================================\n",
      "input_137 (InputLayer)       [(None, 54)]              0         \n",
      "_________________________________________________________________\n",
      "dense_857 (Dense)            (None, 1024)              56320     \n",
      "_________________________________________________________________\n",
      "leaky_re_lu_428 (LeakyReLU)  (None, 1024)              0         \n",
      "_________________________________________________________________\n",
      "dense_858 (Dense)            (None, 1024)              1049600   \n",
      "_________________________________________________________________\n",
      "leaky_re_lu_429 (LeakyReLU)  (None, 1024)              0         \n",
      "_________________________________________________________________\n",
      "dense_859 (Dense)            (None, 1024)              1049600   \n",
      "_________________________________________________________________\n",
      "leaky_re_lu_430 (LeakyReLU)  (None, 1024)              0         \n",
      "_________________________________________________________________\n",
      "dense_860 (Dense)            (None, 50)                51250     \n",
      "_________________________________________________________________\n",
      "leaky_re_lu_431 (LeakyReLU)  (None, 50)                0         \n",
      "_________________________________________________________________\n",
      "dense_861 (Dense)            (None, 24)                1224      \n",
      "=================================================================\n",
      "Total params: 2,207,994\n",
      "Trainable params: 2,207,994\n",
      "Non-trainable params: 0\n",
      "_________________________________________________________________\n",
      "Epoch 1/10\n",
      "100/100 [==============================] - 10s 97ms/step - loss: 87630965064597504.0000 - accuracy: 0.0816\n",
      "Epoch 2/10\n",
      "100/100 [==============================] - 10s 96ms/step - loss: 1117935663086305280.0000 - accuracy: 0.0952\n",
      "Epoch 3/10\n",
      "100/100 [==============================] - 10s 96ms/step - loss: 162658211160129536.0000 - accuracy: 0.1632\n",
      "Epoch 4/10\n",
      "100/100 [==============================] - 10s 95ms/step - loss: 4626727749812224.0000 - accuracy: 0.2296\n",
      "Epoch 5/10\n",
      "100/100 [==============================] - 11s 105ms/step - loss: 2705193204449280.0000 - accuracy: 0.2360\n",
      "Epoch 6/10\n",
      "100/100 [==============================] - 10s 105ms/step - loss: 1778715205828608.0000 - accuracy: 0.2483\n",
      "Epoch 7/10\n",
      "100/100 [==============================] - 10s 105ms/step - loss: 1217714093817856.0000 - accuracy: 0.2542\n",
      "Epoch 8/10\n",
      "100/100 [==============================] - 12s 119ms/step - loss: 1111642494468096.0000 - accuracy: 0.2454\n",
      "Epoch 9/10\n",
      "100/100 [==============================] - 12s 116ms/step - loss: 989697165754368.0000 - accuracy: 0.2483\n",
      "Epoch 10/10\n",
      "100/100 [==============================] - 11s 106ms/step - loss: 702450088542208.0000 - accuracy: 0.2552\n"
     ]
    }
   ],
   "source": [
    "\n",
    "def get_model(lr=0.0001):\n",
    "    input1 = Input((54,))\n",
    "\n",
    "    d1 = Dense(1024)\n",
    "    d2 = Dense(1024)\n",
    "    d3 = Dense(1024)\n",
    "\n",
    "    d4 = Dense(50)\n",
    "\n",
    "    x1 = d1(input1)\n",
    "    x1 = LeakyReLU()(x1)\n",
    "    x1 = d2(x1)\n",
    "    x1 = LeakyReLU()(x1)\n",
    "    x1 = d3(x1)\n",
    "    x1 = LeakyReLU()(x1)\n",
    "    x1 = d4(x1)\n",
    "    x1 = LeakyReLU()(x1)\n",
    "\n",
    "\n",
    "    out_policy = Dense(len(rotations), activation=\"softmax\")(x1)\n",
    "\n",
    "    model = Model(input1, out_policy)\n",
    "\n",
    "    model.compile(loss= 'sparse_categorical_crossentropy', optimizer=Adam(lr),\n",
    "                  metrics='accuracy')\n",
    "    model.summary()\n",
    "    \n",
    "    return model\n",
    "\n",
    "nn_int=[]\n",
    "history_int=[]\n",
    "learn=[0.00001,0.0001,0.001,0.01,1,10]\n",
    "j=0\n",
    "for i in learn :\n",
    "\n",
    "    nn_int.append(get_model(lr=i))\n",
    "    history_int.append(nn_int[j].fit(X_int,y_int,verbose=1,batch_size=1000,epochs=10 ))\n",
    "    j+=1\n",
    "\n"
   ]
  },
  {
   "cell_type": "markdown",
   "metadata": {},
   "source": [
    "Saving the model"
   ]
  },
  {
   "cell_type": "code",
   "execution_count": 1185,
   "metadata": {},
   "outputs": [
    {
     "name": "stdout",
     "output_type": "stream",
     "text": [
      "INFO:tensorflow:Assets written to: nn_int0.sav\\assets\n",
      "INFO:tensorflow:Assets written to: nn_int1.sav\\assets\n",
      "INFO:tensorflow:Assets written to: nn_int2.sav\\assets\n",
      "INFO:tensorflow:Assets written to: nn_int3.sav\\assets\n",
      "INFO:tensorflow:Assets written to: nn_int4.sav\\assets\n",
      "INFO:tensorflow:Assets written to: nn_int5.sav\\assets\n"
     ]
    }
   ],
   "source": [
    "filename = 'nn_int'\n",
    "for i in range(0,len(nn_int)):\n",
    "    nn_int[i].save(filename+str(i)+'.sav')\n",
    "    with open('trainHistoryDict'+str(i), 'wb') as file_pi:\n",
    "        pickle.dump(history_int[i].history, file_pi)"
   ]
  },
  {
   "cell_type": "code",
   "execution_count": 1186,
   "metadata": {},
   "outputs": [
    {
     "data": {
      "text/plain": [
       "Text(0, 0.5, 'accuracy')"
      ]
     },
     "execution_count": 1186,
     "metadata": {},
     "output_type": "execute_result"
    },
    {
     "data": {
      "image/png": "[encoded data removed]",
      "text/plain": [
       "<Figure size 432x288 with 1 Axes>"
      ]
     },
     "metadata": {
      "needs_background": "light"
     },
     "output_type": "display_data"
    }
   ],
   "source": [
    "\n",
    "plot_hot=[]\n",
    "for i in  history_hot : \n",
    "    plot_hot.append(max(i.history['accuracy']))\n",
    "plot_int=[]\n",
    "\n",
    "for i in  history_int : \n",
    "    plot_int.append(max(i.history['accuracy']))\n",
    "param_vals=[1,2,3,4,5,6]\n",
    "maxtrn='max accuracy int = ' ,round(max(plot_int),3)\n",
    "plt.text(1.6, 0.28, maxtrn,c='b', fontsize=12)\n",
    "trn=plt.plot(param_vals, plot_int ,c='b',label=\"trn\")\n",
    "maxtrn='max accuracy hot = ' ,round(max(plot_hot),3)\n",
    "plt.text(1.6, 0.32, maxtrn,c='g', fontsize=12)\n",
    "trn=plt.plot(param_vals, plot_hot ,c='g',label=\"trn\")\n",
    "plt.title('neural network learning with hot and int representation')\n",
    "plt.xticks([1,2,3,4,5,6],[0.00001,0.0001,0.001,0.01,1,10])\n",
    "plt.xlabel('Learning rate')\n",
    "plt.ylabel(\"accuracy\")"
   ]
  },
  {
   "cell_type": "code",
   "execution_count": 1187,
   "metadata": {},
   "outputs": [
    {
     "name": "stdout",
     "output_type": "stream",
     "text": [
      "Model: \"sequential_96\"\n",
      "_________________________________________________________________\n",
      "Layer (type)                 Output Shape              Param #   \n",
      "=================================================================\n",
      "dense_862 (Dense)            (None, 1024)              332800    \n",
      "_________________________________________________________________\n",
      "dense_863 (Dense)            (None, 1024)              1049600   \n",
      "_________________________________________________________________\n",
      "dense_864 (Dense)            (None, 50)                51250     \n",
      "_________________________________________________________________\n",
      "dense_865 (Dense)            (None, 24)                1224      \n",
      "=================================================================\n",
      "Total params: 1,434,874\n",
      "Trainable params: 1,434,874\n",
      "Non-trainable params: 0\n",
      "_________________________________________________________________\n",
      "Epoch 1/10\n",
      "100/100 [==============================] - 7s 69ms/step - loss: 2.8830 - accuracy: 0.1841\n",
      "Epoch 2/10\n",
      "100/100 [==============================] - 7s 69ms/step - loss: 2.3742 - accuracy: 0.3131\n",
      "Epoch 3/10\n",
      "100/100 [==============================] - 6s 59ms/step - loss: 2.0273 - accuracy: 0.3410\n",
      "Epoch 4/10\n",
      "100/100 [==============================] - 7s 67ms/step - loss: 1.8211 - accuracy: 0.3695\n",
      "Epoch 5/10\n",
      "100/100 [==============================] - 7s 66ms/step - loss: 1.6999 - accuracy: 0.3870\n",
      "Epoch 6/10\n",
      "100/100 [==============================] - 7s 70ms/step - loss: 1.6298 - accuracy: 0.3983\n",
      "Epoch 7/10\n",
      "100/100 [==============================] - 7s 67ms/step - loss: 1.5879 - accuracy: 0.4047\n",
      "Epoch 8/10\n",
      "100/100 [==============================] - 6s 62ms/step - loss: 1.5593 - accuracy: 0.4127 0s - loss: 1.5598 - accura\n",
      "Epoch 9/10\n",
      "100/100 [==============================] - 6s 64ms/step - loss: 1.5378 - accuracy: 0.4166\n",
      "Epoch 10/10\n",
      "100/100 [==============================] - 7s 70ms/step - loss: 1.5210 - accuracy: 0.4209\n",
      "Model: \"sequential_97\"\n",
      "_________________________________________________________________\n",
      "Layer (type)                 Output Shape              Param #   \n",
      "=================================================================\n",
      "dense_866 (Dense)            (None, 1024)              332800    \n",
      "_________________________________________________________________\n",
      "dense_867 (Dense)            (None, 1024)              1049600   \n",
      "_________________________________________________________________\n",
      "dense_868 (Dense)            (None, 50)                51250     \n",
      "_________________________________________________________________\n",
      "dense_869 (Dense)            (None, 24)                1224      \n",
      "=================================================================\n",
      "Total params: 1,434,874\n",
      "Trainable params: 1,434,874\n",
      "Non-trainable params: 0\n",
      "_________________________________________________________________\n",
      "Epoch 1/10\n",
      "100/100 [==============================] - 6s 58ms/step - loss: 1.9051 - accuracy: 0.3409\n",
      "Epoch 2/10\n",
      "100/100 [==============================] - 6s 57ms/step - loss: 1.4842 - accuracy: 0.4242\n",
      "Epoch 3/10\n",
      "100/100 [==============================] - 6s 57ms/step - loss: 1.4401 - accuracy: 0.4361\n",
      "Epoch 4/10\n",
      "100/100 [==============================] - 6s 58ms/step - loss: 1.4218 - accuracy: 0.4410\n",
      "Epoch 5/10\n",
      "100/100 [==============================] - 6s 58ms/step - loss: 1.4077 - accuracy: 0.4478\n",
      "Epoch 6/10\n",
      "100/100 [==============================] - 6s 60ms/step - loss: 1.3962 - accuracy: 0.4550\n",
      "Epoch 7/10\n",
      "100/100 [==============================] - 6s 59ms/step - loss: 1.3860 - accuracy: 0.4589\n",
      "Epoch 8/10\n",
      "100/100 [==============================] - 6s 63ms/step - loss: 1.3748 - accuracy: 0.4631\n",
      "Epoch 9/10\n",
      "100/100 [==============================] - 6s 65ms/step - loss: 1.3661 - accuracy: 0.4690\n",
      "Epoch 10/10\n",
      "100/100 [==============================] - 6s 63ms/step - loss: 1.3582 - accuracy: 0.4723\n",
      "Model: \"sequential_98\"\n",
      "_________________________________________________________________\n",
      "Layer (type)                 Output Shape              Param #   \n",
      "=================================================================\n",
      "dense_870 (Dense)            (None, 1024)              332800    \n",
      "_________________________________________________________________\n",
      "dense_871 (Dense)            (None, 1024)              1049600   \n",
      "_________________________________________________________________\n",
      "dense_872 (Dense)            (None, 50)                51250     \n",
      "_________________________________________________________________\n",
      "dense_873 (Dense)            (None, 24)                1224      \n",
      "=================================================================\n",
      "Total params: 1,434,874\n",
      "Trainable params: 1,434,874\n",
      "Non-trainable params: 0\n",
      "_________________________________________________________________\n",
      "Epoch 1/10\n",
      "100/100 [==============================] - 6s 61ms/step - loss: 1.5535 - accuracy: 0.4003\n",
      "Epoch 2/10\n",
      "100/100 [==============================] - 6s 62ms/step - loss: 1.4159 - accuracy: 0.4439\n",
      "Epoch 3/10\n",
      "100/100 [==============================] - 6s 61ms/step - loss: 1.3864 - accuracy: 0.4559\n",
      "Epoch 4/10\n",
      "100/100 [==============================] - 6s 62ms/step - loss: 1.3554 - accuracy: 0.4685\n",
      "Epoch 5/10\n",
      "100/100 [==============================] - 7s 65ms/step - loss: 1.3328 - accuracy: 0.4789\n",
      "Epoch 6/10\n",
      "100/100 [==============================] - 6s 60ms/step - loss: 1.3132 - accuracy: 0.4896\n",
      "Epoch 7/10\n",
      "100/100 [==============================] - 6s 59ms/step - loss: 1.2928 - accuracy: 0.4983\n",
      "Epoch 8/10\n",
      "100/100 [==============================] - 6s 62ms/step - loss: 1.2755 - accuracy: 0.5098\n",
      "Epoch 9/10\n",
      "100/100 [==============================] - 6s 58ms/step - loss: 1.2572 - accuracy: 0.5178\n",
      "Epoch 10/10\n",
      "100/100 [==============================] - 6s 56ms/step - loss: 1.2354 - accuracy: 0.5278\n",
      "Model: \"sequential_99\"\n",
      "_________________________________________________________________\n",
      "Layer (type)                 Output Shape              Param #   \n",
      "=================================================================\n",
      "dense_874 (Dense)            (None, 1024)              332800    \n",
      "_________________________________________________________________\n",
      "dense_875 (Dense)            (None, 1024)              1049600   \n",
      "_________________________________________________________________\n",
      "dense_876 (Dense)            (None, 50)                51250     \n",
      "_________________________________________________________________\n",
      "dense_877 (Dense)            (None, 24)                1224      \n",
      "=================================================================\n",
      "Total params: 1,434,874\n",
      "Trainable params: 1,434,874\n",
      "Non-trainable params: 0\n",
      "_________________________________________________________________\n",
      "Epoch 1/10\n",
      "100/100 [==============================] - 6s 59ms/step - loss: 2.1776 - accuracy: 0.3577\n",
      "Epoch 2/10\n",
      "100/100 [==============================] - 6s 59ms/step - loss: 1.4569 - accuracy: 0.4250\n",
      "Epoch 3/10\n",
      "100/100 [==============================] - 6s 57ms/step - loss: 1.4360 - accuracy: 0.4320\n",
      "Epoch 4/10\n",
      "100/100 [==============================] - 6s 57ms/step - loss: 1.4155 - accuracy: 0.4399\n",
      "Epoch 5/10\n",
      "100/100 [==============================] - ETA: 0s - loss: 1.4082 - accuracy: 0.44 - 6s 57ms/step - loss: 1.4082 - accuracy: 0.4447\n",
      "Epoch 6/10\n",
      "100/100 [==============================] - 6s 58ms/step - loss: 1.4033 - accuracy: 0.4493\n",
      "Epoch 7/10\n",
      "100/100 [==============================] - 6s 57ms/step - loss: 1.3925 - accuracy: 0.4508\n",
      "Epoch 8/10\n",
      "100/100 [==============================] - 6s 57ms/step - loss: 1.3962 - accuracy: 0.4503\n",
      "Epoch 9/10\n",
      "100/100 [==============================] - 6s 57ms/step - loss: 1.3836 - accuracy: 0.4539\n",
      "Epoch 10/10\n",
      "100/100 [==============================] - 6s 60ms/step - loss: 1.3822 - accuracy: 0.4538\n",
      "Model: \"sequential_100\"\n",
      "_________________________________________________________________\n",
      "Layer (type)                 Output Shape              Param #   \n",
      "=================================================================\n",
      "dense_878 (Dense)            (None, 1024)              332800    \n",
      "_________________________________________________________________\n",
      "dense_879 (Dense)            (None, 1024)              1049600   \n",
      "_________________________________________________________________\n",
      "dense_880 (Dense)            (None, 50)                51250     \n",
      "_________________________________________________________________\n",
      "dense_881 (Dense)            (None, 24)                1224      \n",
      "=================================================================\n",
      "Total params: 1,434,874\n",
      "Trainable params: 1,434,874\n",
      "Non-trainable params: 0\n",
      "_________________________________________________________________\n"
     ]
    },
    {
     "name": "stdout",
     "output_type": "stream",
     "text": [
      "Epoch 1/10\n",
      "100/100 [==============================] - 6s 59ms/step - loss: 301196.5625 - accuracy: 0.0990\n",
      "Epoch 2/10\n",
      "100/100 [==============================] - 6s 58ms/step - loss: 2.3076 - accuracy: 0.0991 1s - loss: 2.3073 \n",
      "Epoch 3/10\n",
      "100/100 [==============================] - 6s 58ms/step - loss: 2.3083 - accuracy: 0.0997\n",
      "Epoch 4/10\n",
      "100/100 [==============================] - 6s 59ms/step - loss: 2.3083 - accuracy: 0.0992\n",
      "Epoch 5/10\n",
      "100/100 [==============================] - 6s 58ms/step - loss: 2.3097 - accuracy: 0.1011\n",
      "Epoch 6/10\n",
      "100/100 [==============================] - 6s 58ms/step - loss: 2.3105 - accuracy: 0.0995\n",
      "Epoch 7/10\n",
      "100/100 [==============================] - 6s 58ms/step - loss: 2.3099 - accuracy: 0.0996\n",
      "Epoch 8/10\n",
      "100/100 [==============================] - 6s 58ms/step - loss: 2.3114 - accuracy: 0.0993 0s - loss: 2.3113 - accu\n",
      "Epoch 9/10\n",
      "100/100 [==============================] - 6s 58ms/step - loss: 2.3100 - accuracy: 0.1019\n",
      "Epoch 10/10\n",
      "100/100 [==============================] - 6s 58ms/step - loss: 2.3106 - accuracy: 0.0991\n",
      "Model: \"sequential_101\"\n",
      "_________________________________________________________________\n",
      "Layer (type)                 Output Shape              Param #   \n",
      "=================================================================\n",
      "dense_882 (Dense)            (None, 1024)              332800    \n",
      "_________________________________________________________________\n",
      "dense_883 (Dense)            (None, 1024)              1049600   \n",
      "_________________________________________________________________\n",
      "dense_884 (Dense)            (None, 50)                51250     \n",
      "_________________________________________________________________\n",
      "dense_885 (Dense)            (None, 24)                1224      \n",
      "=================================================================\n",
      "Total params: 1,434,874\n",
      "Trainable params: 1,434,874\n",
      "Non-trainable params: 0\n",
      "_________________________________________________________________\n",
      "Epoch 1/10\n",
      "100/100 [==============================] - 6s 59ms/step - loss: 16178173952.0000 - accuracy: 0.0991\n",
      "Epoch 2/10\n",
      "100/100 [==============================] - 6s 59ms/step - loss: 2.3366 - accuracy: 0.0987\n",
      "Epoch 3/10\n",
      "100/100 [==============================] - 6s 59ms/step - loss: 2.3511 - accuracy: 0.0990\n",
      "Epoch 4/10\n",
      "100/100 [==============================] - 6s 58ms/step - loss: 2.3614 - accuracy: 0.0999\n",
      "Epoch 5/10\n",
      "100/100 [==============================] - 6s 59ms/step - loss: 2.4176 - accuracy: 0.0998\n",
      "Epoch 6/10\n",
      "100/100 [==============================] - 6s 58ms/step - loss: 2.7468 - accuracy: 0.1005\n",
      "Epoch 7/10\n",
      "100/100 [==============================] - 6s 59ms/step - loss: 6.5876 - accuracy: 0.0997\n",
      "Epoch 8/10\n",
      "100/100 [==============================] - 6s 59ms/step - loss: 2.6220 - accuracy: 0.0997\n",
      "Epoch 9/10\n",
      "100/100 [==============================] - 6s 58ms/step - loss: 2.3255 - accuracy: 0.1007\n",
      "Epoch 10/10\n",
      "100/100 [==============================] - 6s 59ms/step - loss: 2.3330 - accuracy: 0.0994\n"
     ]
    }
   ],
   "source": [
    "\n",
    "def get_model(lr=0.0001):\n",
    "\n",
    "\n",
    "    model = keras.Sequential()\n",
    "    model.add( Dense(1024 ,input_shape=(324,) ))\n",
    "    model.add( Dense(1024, activation=\"relu\") )\n",
    "    model.add( Dense(50, activation=\"relu\") )\n",
    "    model.add( Dense(len(rotations), activation=\"softmax\") )\n",
    "\n",
    "\n",
    "    model.compile(loss= 'sparse_categorical_crossentropy', optimizer=Adam(lr),\n",
    "                  metrics='accuracy')\n",
    "    model.summary()\n",
    "\n",
    "    return model\n",
    "\n",
    "nn2_hot=[]\n",
    "history2_hot=[]\n",
    "learn=[0.00001,0.0001,0.001,0.01,1,10]\n",
    "j=0\n",
    "for i in learn :\n",
    "\n",
    "    nn2_hot.append(get_model(lr=i))\n",
    "    history2_hot.append(nn2_hot[j].fit(X_hot,y_hot,verbose=1,batch_size=1000,epochs=10))\n",
    "    j+=1"
   ]
  },
  {
   "cell_type": "code",
   "execution_count": 1188,
   "metadata": {},
   "outputs": [
    {
     "name": "stdout",
     "output_type": "stream",
     "text": [
      "Model: \"sequential_102\"\n",
      "_________________________________________________________________\n",
      "Layer (type)                 Output Shape              Param #   \n",
      "=================================================================\n",
      "dense_886 (Dense)            (None, 1024)              56320     \n",
      "_________________________________________________________________\n",
      "dense_887 (Dense)            (None, 1024)              1049600   \n",
      "_________________________________________________________________\n",
      "dense_888 (Dense)            (None, 50)                51250     \n",
      "_________________________________________________________________\n",
      "dense_889 (Dense)            (None, 24)                1224      \n",
      "=================================================================\n",
      "Total params: 1,158,394\n",
      "Trainable params: 1,158,394\n",
      "Non-trainable params: 0\n",
      "_________________________________________________________________\n",
      "Epoch 1/10\n",
      "100/100 [==============================] - 6s 63ms/step - loss: 2.7805 - accuracy: 0.1438\n",
      "Epoch 2/10\n",
      "100/100 [==============================] - ETA: 0s - loss: 2.2768 - accuracy: 0.21 - 6s 63ms/step - loss: 2.2768 - accuracy: 0.2192\n",
      "Epoch 3/10\n",
      "100/100 [==============================] - 6s 62ms/step - loss: 2.0656 - accuracy: 0.2335\n",
      "Epoch 4/10\n",
      "100/100 [==============================] - 6s 58ms/step - loss: 1.9279 - accuracy: 0.2861\n",
      "Epoch 5/10\n",
      "100/100 [==============================] - 6s 58ms/step - loss: 1.8375 - accuracy: 0.3176\n",
      "Epoch 6/10\n",
      "100/100 [==============================] - 6s 60ms/step - loss: 1.7753 - accuracy: 0.3291\n",
      "Epoch 7/10\n",
      "100/100 [==============================] - 6s 64ms/step - loss: 1.7335 - accuracy: 0.3447\n",
      "Epoch 8/10\n",
      "100/100 [==============================] - 6s 63ms/step - loss: 1.7041 - accuracy: 0.3577\n",
      "Epoch 9/10\n",
      "100/100 [==============================] - 6s 64ms/step - loss: 1.6823 - accuracy: 0.3623\n",
      "Epoch 10/10\n",
      "100/100 [==============================] - 6s 64ms/step - loss: 1.6648 - accuracy: 0.3650\n",
      "Model: \"sequential_103\"\n",
      "_________________________________________________________________\n",
      "Layer (type)                 Output Shape              Param #   \n",
      "=================================================================\n",
      "dense_890 (Dense)            (None, 1024)              56320     \n",
      "_________________________________________________________________\n",
      "dense_891 (Dense)            (None, 1024)              1049600   \n",
      "_________________________________________________________________\n",
      "dense_892 (Dense)            (None, 50)                51250     \n",
      "_________________________________________________________________\n",
      "dense_893 (Dense)            (None, 24)                1224      \n",
      "=================================================================\n",
      "Total params: 1,158,394\n",
      "Trainable params: 1,158,394\n",
      "Non-trainable params: 0\n",
      "_________________________________________________________________\n",
      "Epoch 1/10\n",
      "100/100 [==============================] - 6s 58ms/step - loss: 2.0770 - accuracy: 0.2733\n",
      "Epoch 2/10\n",
      "100/100 [==============================] - 6s 61ms/step - loss: 1.6829 - accuracy: 0.3574\n",
      "Epoch 3/10\n",
      "100/100 [==============================] - 6s 63ms/step - loss: 1.6148 - accuracy: 0.3798\n",
      "Epoch 4/10\n",
      "100/100 [==============================] - 6s 64ms/step - loss: 1.5775 - accuracy: 0.3903\n",
      "Epoch 5/10\n",
      "100/100 [==============================] - 6s 61ms/step - loss: 1.5517 - accuracy: 0.4004\n",
      "Epoch 6/10\n",
      "100/100 [==============================] - 6s 61ms/step - loss: 1.5318 - accuracy: 0.4079\n",
      "Epoch 7/10\n",
      "100/100 [==============================] - 6s 63ms/step - loss: 1.5158 - accuracy: 0.4134\n",
      "Epoch 8/10\n",
      "100/100 [==============================] - 6s 58ms/step - loss: 1.4999 - accuracy: 0.4187\n",
      "Epoch 9/10\n",
      "100/100 [==============================] - 6s 55ms/step - loss: 1.4865 - accuracy: 0.4234\n",
      "Epoch 10/10\n",
      "100/100 [==============================] - 5s 54ms/step - loss: 1.4745 - accuracy: 0.4275\n",
      "Model: \"sequential_104\"\n",
      "_________________________________________________________________\n",
      "Layer (type)                 Output Shape              Param #   \n",
      "=================================================================\n",
      "dense_894 (Dense)            (None, 1024)              56320     \n",
      "_________________________________________________________________\n",
      "dense_895 (Dense)            (None, 1024)              1049600   \n",
      "_________________________________________________________________\n",
      "dense_896 (Dense)            (None, 50)                51250     \n",
      "_________________________________________________________________\n",
      "dense_897 (Dense)            (None, 24)                1224      \n",
      "=================================================================\n",
      "Total params: 1,158,394\n",
      "Trainable params: 1,158,394\n",
      "Non-trainable params: 0\n",
      "_________________________________________________________________\n",
      "Epoch 1/10\n",
      "100/100 [==============================] - 6s 56ms/step - loss: 1.8421 - accuracy: 0.3064\n",
      "Epoch 2/10\n",
      "100/100 [==============================] - 6s 59ms/step - loss: 1.6177 - accuracy: 0.3658\n",
      "Epoch 3/10\n",
      "100/100 [==============================] - 6s 56ms/step - loss: 1.5448 - accuracy: 0.3942\n",
      "Epoch 4/10\n",
      "100/100 [==============================] - 6s 61ms/step - loss: 1.4953 - accuracy: 0.4128\n",
      "Epoch 5/10\n",
      "100/100 [==============================] - 6s 63ms/step - loss: 1.4660 - accuracy: 0.4251\n",
      "Epoch 6/10\n",
      "100/100 [==============================] - 6s 60ms/step - loss: 1.4428 - accuracy: 0.4333\n",
      "Epoch 7/10\n",
      "100/100 [==============================] - 6s 61ms/step - loss: 1.4230 - accuracy: 0.4420\n",
      "Epoch 8/10\n",
      "100/100 [==============================] - 6s 58ms/step - loss: 1.4077 - accuracy: 0.4484\n",
      "Epoch 9/10\n",
      "100/100 [==============================] - 6s 59ms/step - loss: 1.3978 - accuracy: 0.4531\n",
      "Epoch 10/10\n",
      "100/100 [==============================] - 6s 56ms/step - loss: 1.3854 - accuracy: 0.4591\n",
      "Model: \"sequential_105\"\n",
      "_________________________________________________________________\n",
      "Layer (type)                 Output Shape              Param #   \n",
      "=================================================================\n",
      "dense_898 (Dense)            (None, 1024)              56320     \n",
      "_________________________________________________________________\n",
      "dense_899 (Dense)            (None, 1024)              1049600   \n",
      "_________________________________________________________________\n",
      "dense_900 (Dense)            (None, 50)                51250     \n",
      "_________________________________________________________________\n",
      "dense_901 (Dense)            (None, 24)                1224      \n",
      "=================================================================\n",
      "Total params: 1,158,394\n",
      "Trainable params: 1,158,394\n",
      "Non-trainable params: 0\n",
      "_________________________________________________________________\n",
      "Epoch 1/10\n",
      "100/100 [==============================] - 6s 56ms/step - loss: 5.7067 - accuracy: 0.1055\n",
      "Epoch 2/10\n",
      "100/100 [==============================] - 6s 56ms/step - loss: 2.5490 - accuracy: 0.0993\n",
      "Epoch 3/10\n",
      "100/100 [==============================] - 6s 57ms/step - loss: 2.4290 - accuracy: 0.0990\n",
      "Epoch 4/10\n",
      "100/100 [==============================] - 6s 56ms/step - loss: 2.3797 - accuracy: 0.0991\n",
      "Epoch 5/10\n",
      "100/100 [==============================] - 6s 58ms/step - loss: 2.3550 - accuracy: 0.0994\n",
      "Epoch 6/10\n",
      "100/100 [==============================] - 6s 56ms/step - loss: 2.3409 - accuracy: 0.0992\n",
      "Epoch 7/10\n",
      "100/100 [==============================] - 6s 58ms/step - loss: 2.3320 - accuracy: 0.0995\n",
      "Epoch 8/10\n",
      "100/100 [==============================] - 6s 55ms/step - loss: 2.3260 - accuracy: 0.0979\n",
      "Epoch 9/10\n",
      "100/100 [==============================] - 5s 54ms/step - loss: 2.3217 - accuracy: 0.0994\n",
      "Epoch 10/10\n",
      "100/100 [==============================] - 6s 60ms/step - loss: 2.3186 - accuracy: 0.0996 2s - loss:\n",
      "Model: \"sequential_106\"\n",
      "_________________________________________________________________\n",
      "Layer (type)                 Output Shape              Param #   \n",
      "=================================================================\n",
      "dense_902 (Dense)            (None, 1024)              56320     \n",
      "_________________________________________________________________\n",
      "dense_903 (Dense)            (None, 1024)              1049600   \n",
      "_________________________________________________________________\n",
      "dense_904 (Dense)            (None, 50)                51250     \n",
      "_________________________________________________________________\n",
      "dense_905 (Dense)            (None, 24)                1224      \n",
      "=================================================================\n",
      "Total params: 1,158,394\n",
      "Trainable params: 1,158,394\n",
      "Non-trainable params: 0\n",
      "_________________________________________________________________\n"
     ]
    },
    {
     "name": "stdout",
     "output_type": "stream",
     "text": [
      "Epoch 1/10\n",
      "100/100 [==============================] - 6s 59ms/step - loss: 6056709.5000 - accuracy: 0.0985\n",
      "Epoch 2/10\n",
      "100/100 [==============================] - 6s 59ms/step - loss: 2.3108 - accuracy: 0.1003\n",
      "Epoch 3/10\n",
      "100/100 [==============================] - 6s 56ms/step - loss: 2.3106 - accuracy: 0.0999\n",
      "Epoch 4/10\n",
      "100/100 [==============================] - 5s 55ms/step - loss: 2.3095 - accuracy: 0.1008\n",
      "Epoch 5/10\n",
      "100/100 [==============================] - 6s 56ms/step - loss: 2.3111 - accuracy: 0.1007\n",
      "Epoch 6/10\n",
      "100/100 [==============================] - 5s 54ms/step - loss: 2.3143 - accuracy: 0.1017\n",
      "Epoch 7/10\n",
      "100/100 [==============================] - 5s 54ms/step - loss: 2.3141 - accuracy: 0.0994\n",
      "Epoch 8/10\n",
      "100/100 [==============================] - 5s 54ms/step - loss: 2.3166 - accuracy: 0.0991\n",
      "Epoch 9/10\n",
      "100/100 [==============================] - 5s 54ms/step - loss: 2.3120 - accuracy: 0.1007\n",
      "Epoch 10/10\n",
      "100/100 [==============================] - 5s 54ms/step - loss: 2.3156 - accuracy: 0.1014\n",
      "Model: \"sequential_107\"\n",
      "_________________________________________________________________\n",
      "Layer (type)                 Output Shape              Param #   \n",
      "=================================================================\n",
      "dense_906 (Dense)            (None, 1024)              56320     \n",
      "_________________________________________________________________\n",
      "dense_907 (Dense)            (None, 1024)              1049600   \n",
      "_________________________________________________________________\n",
      "dense_908 (Dense)            (None, 50)                51250     \n",
      "_________________________________________________________________\n",
      "dense_909 (Dense)            (None, 24)                1224      \n",
      "=================================================================\n",
      "Total params: 1,158,394\n",
      "Trainable params: 1,158,394\n",
      "Non-trainable params: 0\n",
      "_________________________________________________________________\n",
      "Epoch 1/10\n",
      "100/100 [==============================] - 6s 56ms/step - loss: 40616280064.0000 - accuracy: 0.0997\n",
      "Epoch 2/10\n",
      "100/100 [==============================] - 5s 55ms/step - loss: 2.3244 - accuracy: 0.0999\n",
      "Epoch 3/10\n",
      "100/100 [==============================] - 6s 56ms/step - loss: 2.3347 - accuracy: 0.1001\n",
      "Epoch 4/10\n",
      "100/100 [==============================] - 6s 55ms/step - loss: 2.3467 - accuracy: 0.0991\n",
      "Epoch 5/10\n",
      "100/100 [==============================] - 6s 56ms/step - loss: 2.3468 - accuracy: 0.0989\n",
      "Epoch 6/10\n",
      "100/100 [==============================] - 6s 56ms/step - loss: 2.3594 - accuracy: 0.0993\n",
      "Epoch 7/10\n",
      "100/100 [==============================] - 6s 56ms/step - loss: 2.8692 - accuracy: 0.1006\n",
      "Epoch 8/10\n",
      "100/100 [==============================] - 6s 56ms/step - loss: 2.4223 - accuracy: 0.0992\n",
      "Epoch 9/10\n",
      "100/100 [==============================] - 6s 56ms/step - loss: 2.3750 - accuracy: 0.0993\n",
      "Epoch 10/10\n",
      "100/100 [==============================] - 5s 54ms/step - loss: 2.4038 - accuracy: 0.0979\n"
     ]
    }
   ],
   "source": [
    "def get_model(lr=0.0001):\n",
    "\n",
    "\n",
    "    model = keras.Sequential()\n",
    "    model.add( Dense(1024 ,input_shape=(54,) ))\n",
    "    model.add( Dense(1024, activation=\"relu\") )\n",
    "    model.add( Dense(50, activation=\"relu\") )\n",
    "    model.add( Dense(len(rotations), activation=\"softmax\") )\n",
    "\n",
    "\n",
    "    model.compile(loss= 'sparse_categorical_crossentropy', optimizer=Adam(lr),\n",
    "                  metrics='accuracy')\n",
    "    model.summary()\n",
    "\n",
    "    return model\n",
    "\n",
    "nn2_int=[]\n",
    "history2_int=[]\n",
    "learn=[0.00001,0.0001,0.001,0.01,1,10]\n",
    "j=0\n",
    "for i in learn :\n",
    "\n",
    "    nn2_int.append(get_model(lr=i))\n",
    "    history2_int.append(nn2_int[j].fit(X_int,y_int,verbose=1,batch_size=1000,epochs=10))\n",
    "    j+=1"
   ]
  },
  {
   "cell_type": "code",
   "execution_count": 1189,
   "metadata": {},
   "outputs": [
    {
     "data": {
      "text/plain": [
       "Text(0, 0.5, 'accuracy')"
      ]
     },
     "execution_count": 1189,
     "metadata": {},
     "output_type": "execute_result"
    },
    {
     "data": {
      "image/png": "[encoded data removed]",
      "text/plain": [
       "<Figure size 432x288 with 1 Axes>"
      ]
     },
     "metadata": {
      "needs_background": "light"
     },
     "output_type": "display_data"
    }
   ],
   "source": [
    "\n",
    "plot_hot=[]\n",
    "for i in  history2_hot : \n",
    "    plot_hot.append(max(i.history['accuracy']))\n",
    "plot_int=[]\n",
    "for i in  history2_int : \n",
    "    plot_int.append(max(i.history['accuracy']))\n",
    "param_vals=[1,2,3,4,5,6]\n",
    "maxtrn='max accuracy int = ' ,round(max(plot_int),3)\n",
    "plt.text(1.6, 0.28, maxtrn,c='b', fontsize=12)\n",
    "trn=plt.plot(param_vals, plot_int ,c='b',label=\"trn\")\n",
    "maxtrn='max accuracy hot = ' ,round(max(plot_hot),3)\n",
    "plt.text(1.6, 0.32, maxtrn,c='g', fontsize=12)\n",
    "trn=plt.plot(param_vals, plot_hot ,c='g',label=\"trn\")\n",
    "plt.title('neural network learning with hot and int representation')\n",
    "plt.xticks([1,2,3,4,5,6],[0.00001,0.0001,0.001,0.01,1,10])\n",
    "plt.xlabel('Learning rate')\n",
    "plt.ylabel(\"accuracy\")"
   ]
  },
  {
   "cell_type": "code",
   "execution_count": null,
   "metadata": {},
   "outputs": [],
   "source": []
  }
 ],
 "metadata": {
  "kernelspec": {
   "display_name": "Python 3",
   "language": "python",
   "name": "python3"
  },
  "language_info": {
   "codemirror_mode": {
    "name": "ipython",
    "version": 3
   },
   "file_extension": ".py",
   "mimetype": "text/x-python",
   "name": "python",
   "nbconvert_exporter": "python",
   "pygments_lexer": "ipython3",
   "version": "3.8.3"
  }
 },
 "nbformat": 4,
 "nbformat_minor": 2
}
